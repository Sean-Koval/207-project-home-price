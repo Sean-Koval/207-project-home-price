{
  "cells": [
    {
      "cell_type": "markdown",
      "id": "0dcfd87d",
      "metadata": {
        "id": "0dcfd87d"
      },
      "source": [
        "## Overview"
      ]
    },
    {
      "cell_type": "markdown",
      "id": "3322ca73",
      "metadata": {
        "id": "3322ca73"
      },
      "source": [
        "__Business Problem__\n",
        "\n",
        "As a business, it is difficult to assess the appropriate value for homes in certain neighborhoods/markets. There is a need for more precision and confidence in valuation to support decision-making. Developing a data-driven / model-based approach to valuation can help to remove human bias.\n",
        "\n",
        "As a building developer, it is difficult to weigh the importance of attributes to potential home buyers. A model-based approach can help assess what factors drive the oveall value of a home.\n",
        "\n",
        "__Inference Problem__\n",
        "\n",
        "X: 79 explanatory variables describing aspects of residential homes in Ames, Iowa  \n",
        "y: Home price\n",
        "\n",
        "Develop a model to predict home price based on a collection of attributes about the home and surrounding neighborhood.\n",
        "\n",
        "__Methodology__\n",
        "\n",
        "- Exploratory data analysis\n",
        "    - Use pandas profiling minimal for overview\n",
        "    - Develop calculated metrics using numerical variables\n",
        "    - Apply one-hot encoding to relevant ordinal variables\n",
        "- Model setup\n",
        "    - Baseline set of regression models\n",
        "        - Linear Regression\n",
        "        - Random Forest\n",
        "        - Gradient Boosting\n",
        "- Model evaluation and iteration\n",
        "    - Evaluate performance metrics: $R^2$, MSE, MAE, RMSE, [placeholder]\n",
        "    - Assess feature importance, apply dimensionality reduction\n",
        "    - Determine which models to exclude, features to exclude/include/adjust\n",
        "    - Repeat model setup"
      ]
    },
    {
      "cell_type": "markdown",
      "id": "255e9906",
      "metadata": {
        "id": "255e9906"
      },
      "source": [
        "__Office Hours Walkthrough Notes__\n",
        "\n",
        "- Error analysis\n",
        "    - Residuals\n",
        "        - How are we making errors - in the same variable, same direction?\n",
        "    - We need to solve sub-problems\n",
        "        - Example: Rather than the spectrum of HousePrice, maybe the proper distinction is Cheap vs. Expensive houses"
      ]
    },
    {
      "cell_type": "markdown",
      "id": "20e07c53",
      "metadata": {
        "id": "20e07c53"
      },
      "source": [
        "## 0.0 Project Setup"
      ]
    },
    {
      "cell_type": "markdown",
      "source": [
        "### 0.1 Import libraries and data"
      ],
      "metadata": {
        "id": "n-fJt_69FdKZ"
      },
      "id": "n-fJt_69FdKZ"
    },
    {
      "cell_type": "code",
      "execution_count": 15,
      "id": "7475c345",
      "metadata": {
        "id": "7475c345"
      },
      "outputs": [],
      "source": [
        "# Basic\n",
        "from IPython.display import display, Math\n",
        "import warnings\n",
        "warnings.filterwarnings('ignore')\n",
        "\n",
        "# Statistics\n",
        "import numpy as np\n",
        "import pandas as pd\n",
        "from pandas_profiling import ProfileReport\n",
        "from scipy.stats import chi2_contingency, norm, skew, kurtosis\n",
        "\n",
        "# Visualization\n",
        "%matplotlib inline\n",
        "import matplotlib.pyplot as plt\n",
        "import seaborn as sns\n",
        "\n",
        "# Pre-processing\n",
        "from sklearn.preprocessing import StandardScaler, OrdinalEncoder, OneHotEncoder, RobustScaler\n",
        "from sklearn.pipeline import make_pipeline\n",
        "from sklearn.model_selection import train_test_split\n",
        "from sklearn.model_selection import RandomizedSearchCV, GridSearchCV, KFold\n",
        "from sklearn.model_selection import cross_val_score\n",
        "\n",
        "# Modelling\n",
        "from sklearn.base import BaseEstimator, TransformerMixin, RegressorMixin, clone\n",
        "from sklearn.linear_model import ElasticNet, SGDRegressor, Ridge, Lasso, BayesianRidge, LassoLarsIC\n",
        "from sklearn.linear_model import LinearRegression\n",
        "from sklearn.ensemble import RandomForestRegressor,  GradientBoostingRegressor\n",
        "from sklearn.kernel_ridge import KernelRidge\n",
        "from sklearn.svm import SVR\n",
        "import xgboost as xgb\n",
        "import lightgbm as lgb\n",
        "\n",
        "# Model evaluation\n",
        "from sklearn.metrics import mean_squared_error, mean_absolute_error\n"
      ]
    },
    {
      "cell_type": "code",
      "source": [
        "# Colab\n",
        "train_url = \"https://raw.githubusercontent.com/davidmiller2013/207-project-home-price/main/data/train.csv\"\n",
        "test_url = \"https://raw.githubusercontent.com/davidmiller2013/207-project-home-price/main/data/test.csv\"\n",
        "house_train = pd.read_csv(train_url)\n",
        "house_test = pd.read_csv(test_url)\n",
        "\n",
        "# Local\n",
        "# house_train = pd.read_csv('../data/train.csv')\n",
        "# house_test = pd.read_csv('../data/test.csv')"
      ],
      "metadata": {
        "id": "euo9DND7Fc1z"
      },
      "id": "euo9DND7Fc1z",
      "execution_count": 16,
      "outputs": []
    },
    {
      "cell_type": "markdown",
      "id": "464329c0",
      "metadata": {
        "id": "464329c0"
      },
      "source": [
        "## 1.0 Exploratory Data Analysis"
      ]
    },
    {
      "cell_type": "markdown",
      "id": "8d8b3db0",
      "metadata": {
        "id": "8d8b3db0"
      },
      "source": [
        "### 1.1 Initial EDA"
      ]
    },
    {
      "cell_type": "code",
      "execution_count": 17,
      "id": "c6957931",
      "metadata": {
        "id": "c6957931",
        "outputId": "19783680-e173-4b5b-cc42-4e04a06f24a3",
        "colab": {
          "base_uri": "https://localhost:8080/"
        }
      },
      "outputs": [
        {
          "output_type": "stream",
          "name": "stdout",
          "text": [
            "\u001b[1mDataframe Shape\u001b[0m\n",
            "The shape of the dataset is (1460, 81).\n",
            "\n",
            "\n",
            "\u001b[1mColumn Information\u001b[0m\n",
            "Below are the features and the number of non-null observations of the features\n",
            "<class 'pandas.core.frame.DataFrame'>\n",
            "RangeIndex: 1460 entries, 0 to 1459\n",
            "Data columns (total 81 columns):\n",
            " #   Column         Non-Null Count  Dtype  \n",
            "---  ------         --------------  -----  \n",
            " 0   Id             1460 non-null   int64  \n",
            " 1   MSSubClass     1460 non-null   int64  \n",
            " 2   MSZoning       1460 non-null   object \n",
            " 3   LotFrontage    1201 non-null   float64\n",
            " 4   LotArea        1460 non-null   int64  \n",
            " 5   Street         1460 non-null   object \n",
            " 6   Alley          91 non-null     object \n",
            " 7   LotShape       1460 non-null   object \n",
            " 8   LandContour    1460 non-null   object \n",
            " 9   Utilities      1460 non-null   object \n",
            " 10  LotConfig      1460 non-null   object \n",
            " 11  LandSlope      1460 non-null   object \n",
            " 12  Neighborhood   1460 non-null   object \n",
            " 13  Condition1     1460 non-null   object \n",
            " 14  Condition2     1460 non-null   object \n",
            " 15  BldgType       1460 non-null   object \n",
            " 16  HouseStyle     1460 non-null   object \n",
            " 17  OverallQual    1460 non-null   int64  \n",
            " 18  OverallCond    1460 non-null   int64  \n",
            " 19  YearBuilt      1460 non-null   int64  \n",
            " 20  YearRemodAdd   1460 non-null   int64  \n",
            " 21  RoofStyle      1460 non-null   object \n",
            " 22  RoofMatl       1460 non-null   object \n",
            " 23  Exterior1st    1460 non-null   object \n",
            " 24  Exterior2nd    1460 non-null   object \n",
            " 25  MasVnrType     1452 non-null   object \n",
            " 26  MasVnrArea     1452 non-null   float64\n",
            " 27  ExterQual      1460 non-null   object \n",
            " 28  ExterCond      1460 non-null   object \n",
            " 29  Foundation     1460 non-null   object \n",
            " 30  BsmtQual       1423 non-null   object \n",
            " 31  BsmtCond       1423 non-null   object \n",
            " 32  BsmtExposure   1422 non-null   object \n",
            " 33  BsmtFinType1   1423 non-null   object \n",
            " 34  BsmtFinSF1     1460 non-null   int64  \n",
            " 35  BsmtFinType2   1422 non-null   object \n",
            " 36  BsmtFinSF2     1460 non-null   int64  \n",
            " 37  BsmtUnfSF      1460 non-null   int64  \n",
            " 38  TotalBsmtSF    1460 non-null   int64  \n",
            " 39  Heating        1460 non-null   object \n",
            " 40  HeatingQC      1460 non-null   object \n",
            " 41  CentralAir     1460 non-null   object \n",
            " 42  Electrical     1459 non-null   object \n",
            " 43  1stFlrSF       1460 non-null   int64  \n",
            " 44  2ndFlrSF       1460 non-null   int64  \n",
            " 45  LowQualFinSF   1460 non-null   int64  \n",
            " 46  GrLivArea      1460 non-null   int64  \n",
            " 47  BsmtFullBath   1460 non-null   int64  \n",
            " 48  BsmtHalfBath   1460 non-null   int64  \n",
            " 49  FullBath       1460 non-null   int64  \n",
            " 50  HalfBath       1460 non-null   int64  \n",
            " 51  BedroomAbvGr   1460 non-null   int64  \n",
            " 52  KitchenAbvGr   1460 non-null   int64  \n",
            " 53  KitchenQual    1460 non-null   object \n",
            " 54  TotRmsAbvGrd   1460 non-null   int64  \n",
            " 55  Functional     1460 non-null   object \n",
            " 56  Fireplaces     1460 non-null   int64  \n",
            " 57  FireplaceQu    770 non-null    object \n",
            " 58  GarageType     1379 non-null   object \n",
            " 59  GarageYrBlt    1379 non-null   float64\n",
            " 60  GarageFinish   1379 non-null   object \n",
            " 61  GarageCars     1460 non-null   int64  \n",
            " 62  GarageArea     1460 non-null   int64  \n",
            " 63  GarageQual     1379 non-null   object \n",
            " 64  GarageCond     1379 non-null   object \n",
            " 65  PavedDrive     1460 non-null   object \n",
            " 66  WoodDeckSF     1460 non-null   int64  \n",
            " 67  OpenPorchSF    1460 non-null   int64  \n",
            " 68  EnclosedPorch  1460 non-null   int64  \n",
            " 69  3SsnPorch      1460 non-null   int64  \n",
            " 70  ScreenPorch    1460 non-null   int64  \n",
            " 71  PoolArea       1460 non-null   int64  \n",
            " 72  PoolQC         7 non-null      object \n",
            " 73  Fence          281 non-null    object \n",
            " 74  MiscFeature    54 non-null     object \n",
            " 75  MiscVal        1460 non-null   int64  \n",
            " 76  MoSold         1460 non-null   int64  \n",
            " 77  YrSold         1460 non-null   int64  \n",
            " 78  SaleType       1460 non-null   object \n",
            " 79  SaleCondition  1460 non-null   object \n",
            " 80  SalePrice      1460 non-null   int64  \n",
            "dtypes: float64(3), int64(35), object(43)\n",
            "memory usage: 924.0+ KB\n",
            "\n",
            "\n",
            "\u001b[1mNumeric Column Information\u001b[0m\n",
            "                Id   MSSubClass  LotFrontage        LotArea  OverallQual  \\\n",
            "count  1460.000000  1460.000000  1201.000000    1460.000000  1460.000000   \n",
            "mean    730.500000    56.897260    70.049958   10516.828082     6.099315   \n",
            "std     421.610009    42.300571    24.284752    9981.264932     1.382997   \n",
            "min       1.000000    20.000000    21.000000    1300.000000     1.000000   \n",
            "25%     365.750000    20.000000    59.000000    7553.500000     5.000000   \n",
            "50%     730.500000    50.000000    69.000000    9478.500000     6.000000   \n",
            "75%    1095.250000    70.000000    80.000000   11601.500000     7.000000   \n",
            "max    1460.000000   190.000000   313.000000  215245.000000    10.000000   \n",
            "\n",
            "       OverallCond    YearBuilt  YearRemodAdd   MasVnrArea   BsmtFinSF1  ...  \\\n",
            "count  1460.000000  1460.000000   1460.000000  1452.000000  1460.000000  ...   \n",
            "mean      5.575342  1971.267808   1984.865753   103.685262   443.639726  ...   \n",
            "std       1.112799    30.202904     20.645407   181.066207   456.098091  ...   \n",
            "min       1.000000  1872.000000   1950.000000     0.000000     0.000000  ...   \n",
            "25%       5.000000  1954.000000   1967.000000     0.000000     0.000000  ...   \n",
            "50%       5.000000  1973.000000   1994.000000     0.000000   383.500000  ...   \n",
            "75%       6.000000  2000.000000   2004.000000   166.000000   712.250000  ...   \n",
            "max       9.000000  2010.000000   2010.000000  1600.000000  5644.000000  ...   \n",
            "\n",
            "        WoodDeckSF  OpenPorchSF  EnclosedPorch    3SsnPorch  ScreenPorch  \\\n",
            "count  1460.000000  1460.000000    1460.000000  1460.000000  1460.000000   \n",
            "mean     94.244521    46.660274      21.954110     3.409589    15.060959   \n",
            "std     125.338794    66.256028      61.119149    29.317331    55.757415   \n",
            "min       0.000000     0.000000       0.000000     0.000000     0.000000   \n",
            "25%       0.000000     0.000000       0.000000     0.000000     0.000000   \n",
            "50%       0.000000    25.000000       0.000000     0.000000     0.000000   \n",
            "75%     168.000000    68.000000       0.000000     0.000000     0.000000   \n",
            "max     857.000000   547.000000     552.000000   508.000000   480.000000   \n",
            "\n",
            "          PoolArea       MiscVal       MoSold       YrSold      SalePrice  \n",
            "count  1460.000000   1460.000000  1460.000000  1460.000000    1460.000000  \n",
            "mean      2.758904     43.489041     6.321918  2007.815753  180921.195890  \n",
            "std      40.177307    496.123024     2.703626     1.328095   79442.502883  \n",
            "min       0.000000      0.000000     1.000000  2006.000000   34900.000000  \n",
            "25%       0.000000      0.000000     5.000000  2007.000000  129975.000000  \n",
            "50%       0.000000      0.000000     6.000000  2008.000000  163000.000000  \n",
            "75%       0.000000      0.000000     8.000000  2009.000000  214000.000000  \n",
            "max     738.000000  15500.000000    12.000000  2010.000000  755000.000000  \n",
            "\n",
            "[8 rows x 38 columns]\n",
            "\n",
            "\n",
            "\u001b[1mCategorical Column Unique Values\u001b[0m\n",
            "MSZoning: ['RL' 'RM' 'C (all)' 'FV' 'RH']\n",
            "Street: ['Pave' 'Grvl']\n",
            "Alley: [nan 'Grvl' 'Pave']\n",
            "LotShape: ['Reg' 'IR1' 'IR2' 'IR3']\n",
            "LandContour: ['Lvl' 'Bnk' 'Low' 'HLS']\n",
            "Utilities: ['AllPub' 'NoSeWa']\n",
            "LotConfig: ['Inside' 'FR2' 'Corner' 'CulDSac' 'FR3']\n",
            "LandSlope: ['Gtl' 'Mod' 'Sev']\n",
            "Condition1: ['Norm' 'Feedr' 'PosN' 'Artery' 'RRAe' 'RRNn' 'RRAn' 'PosA' 'RRNe']\n",
            "Condition2: ['Norm' 'Artery' 'RRNn' 'Feedr' 'PosN' 'PosA' 'RRAn' 'RRAe']\n",
            "BldgType: ['1Fam' '2fmCon' 'Duplex' 'TwnhsE' 'Twnhs']\n",
            "HouseStyle: ['2Story' '1Story' '1.5Fin' '1.5Unf' 'SFoyer' 'SLvl' '2.5Unf' '2.5Fin']\n",
            "OverallQual: [ 7  6  8  5  9  4 10  3  1  2]\n",
            "OverallCond: [5 8 6 7 4 2 3 9 1]\n",
            "RoofStyle: ['Gable' 'Hip' 'Gambrel' 'Mansard' 'Flat' 'Shed']\n",
            "RoofMatl: ['CompShg' 'WdShngl' 'Metal' 'WdShake' 'Membran' 'Tar&Grv' 'Roll'\n",
            " 'ClyTile']\n",
            "MasVnrType: ['BrkFace' 'None' 'Stone' 'BrkCmn' nan]\n",
            "ExterQual: ['Gd' 'TA' 'Ex' 'Fa']\n",
            "ExterCond: ['TA' 'Gd' 'Fa' 'Po' 'Ex']\n",
            "Foundation: ['PConc' 'CBlock' 'BrkTil' 'Wood' 'Slab' 'Stone']\n",
            "BsmtQual: ['Gd' 'TA' 'Ex' nan 'Fa']\n",
            "BsmtCond: ['TA' 'Gd' nan 'Fa' 'Po']\n",
            "BsmtExposure: ['No' 'Gd' 'Mn' 'Av' nan]\n",
            "BsmtFinType1: ['GLQ' 'ALQ' 'Unf' 'Rec' 'BLQ' nan 'LwQ']\n",
            "BsmtFinType2: ['Unf' 'BLQ' nan 'ALQ' 'Rec' 'LwQ' 'GLQ']\n",
            "Heating: ['GasA' 'GasW' 'Grav' 'Wall' 'OthW' 'Floor']\n",
            "HeatingQC: ['Ex' 'Gd' 'TA' 'Fa' 'Po']\n",
            "CentralAir: ['Y' 'N']\n",
            "Electrical: ['SBrkr' 'FuseF' 'FuseA' 'FuseP' 'Mix' nan]\n",
            "BsmtFullBath: [1 0 2 3]\n",
            "BsmtHalfBath: [0 1 2]\n",
            "FullBath: [2 1 3 0]\n",
            "HalfBath: [1 0 2]\n",
            "BedroomAbvGr: [3 4 1 2 0 5 6 8]\n",
            "KitchenAbvGr: [1 2 3 0]\n",
            "KitchenQual: ['Gd' 'TA' 'Ex' 'Fa']\n",
            "Functional: ['Typ' 'Min1' 'Maj1' 'Min2' 'Mod' 'Maj2' 'Sev']\n",
            "Fireplaces: [0 1 2 3]\n",
            "FireplaceQu: [nan 'TA' 'Gd' 'Fa' 'Ex' 'Po']\n",
            "GarageType: ['Attchd' 'Detchd' 'BuiltIn' 'CarPort' nan 'Basment' '2Types']\n",
            "GarageFinish: ['RFn' 'Unf' 'Fin' nan]\n",
            "GarageCars: [2 3 1 0 4]\n",
            "GarageQual: ['TA' 'Fa' 'Gd' nan 'Ex' 'Po']\n",
            "GarageCond: ['TA' 'Fa' nan 'Gd' 'Po' 'Ex']\n",
            "PavedDrive: ['Y' 'N' 'P']\n",
            "PoolArea: [  0 512 648 576 555 480 519 738]\n",
            "PoolQC: [nan 'Ex' 'Fa' 'Gd']\n",
            "Fence: [nan 'MnPrv' 'GdWo' 'GdPrv' 'MnWw']\n",
            "MiscFeature: [nan 'Shed' 'Gar2' 'Othr' 'TenC']\n",
            "YrSold: [2008 2007 2006 2009 2010]\n",
            "SaleType: ['WD' 'New' 'COD' 'ConLD' 'ConLI' 'CWD' 'ConLw' 'Con' 'Oth']\n",
            "SaleCondition: ['Normal' 'Abnorml' 'Partial' 'AdjLand' 'Alloca' 'Family']\n"
          ]
        }
      ],
      "source": [
        "print(\"\\033[1m\" + \"Dataframe Shape\" + \"\\033[0m\")\n",
        "print(f\"The shape of the dataset is {house_train.shape}.\")\n",
        "print(\"\\n\")\n",
        "\n",
        "print(\"\\033[1m\" + \"Column Information\" + \"\\033[0m\")\n",
        "print(\"Below are the features and the number of non-null observations of the features\")\n",
        "house_train.info()\n",
        "print(\"\\n\")\n",
        "\n",
        "print(\"\\033[1m\" + \"Numeric Column Information\" + \"\\033[0m\")\n",
        "print(house_train.describe())\n",
        "print(\"\\n\")\n",
        "\n",
        "print(\"\\033[1m\" + \"Categorical Column Unique Values\" + \"\\033[0m\")\n",
        "for col in house_train:\n",
        "    if len(house_train[col].unique()) > 10:\n",
        "        pass\n",
        "    else:\n",
        "        print('{}: {}'.format(col, house_train[col].unique()))"
      ]
    },
    {
      "cell_type": "code",
      "execution_count": 18,
      "id": "832bf182",
      "metadata": {
        "id": "832bf182"
      },
      "outputs": [],
      "source": [
        "# prof = ProfileReport(house_train, minimal=True)\n",
        "# prof.to_file(output_file='output.html')"
      ]
    },
    {
      "cell_type": "markdown",
      "id": "c69804f8",
      "metadata": {
        "id": "c69804f8"
      },
      "source": [
        "The `output.html` file displays information about each variable, including the number of distinct values, missing values, mean, minimum, maximum, and the distribution. From going through the list and reading the description of the features in `data_description.txt`, we chose 3 features to use for our model to predict home price. They are `LotArea`, `BedroomAbvGr`, and `FullBath`. The `LotArea` is the lot size in square feet, `BedroomAbvGr` is the number of bedrooms above grade, and `FullBath` is the number of full bathrooms above grade. We believe these features will be quite predictive of the house price."
      ]
    },
    {
      "cell_type": "code",
      "execution_count": 19,
      "id": "b7e492d5",
      "metadata": {
        "id": "b7e492d5",
        "outputId": "affe013b-6b8a-42b0-be1b-0f10341b1d39",
        "colab": {
          "base_uri": "https://localhost:8080/",
          "height": 939
        }
      },
      "outputs": [
        {
          "output_type": "display_data",
          "data": {
            "text/plain": [
              "<Figure size 1152x1152 with 2 Axes>"
            ],
            "image/png": "[encoded data removed]"
          },
          "metadata": {
            "needs_background": "light"
          }
        }
      ],
      "source": [
        "corrmat = house_train.corr()\n",
        "k = 10\n",
        "\n",
        "plt.figure(figsize=(16,16))\n",
        "columns = corrmat.nlargest(k, 'SalePrice')['SalePrice'].index\n",
        "correlation_matrix = np.corrcoef(house_train[columns].values.T)\n",
        "sns.set(font_scale=1.25)\n",
        "heat_map = sns.heatmap(correlation_matrix,\n",
        "                       cbar=True,\n",
        "                       annot=True,\n",
        "                       square=True,\n",
        "                       fmt='.2f',\n",
        "                       annot_kws={'size': 10},\n",
        "                       yticklabels=columns.values,\n",
        "                       xticklabels=columns.values\n",
        "                      )\n",
        "plt.show()"
      ]
    },
    {
      "cell_type": "markdown",
      "id": "a811744d",
      "metadata": {
        "id": "a811744d"
      },
      "source": [
        "## 2.0 Feature Engineering"
      ]
    },
    {
      "cell_type": "markdown",
      "id": "b4a1fc02",
      "metadata": {
        "id": "b4a1fc02"
      },
      "source": [
        "### 2.1 Handle Missing Data"
      ]
    },
    {
      "cell_type": "code",
      "execution_count": 20,
      "id": "b4a56677",
      "metadata": {
        "id": "b4a56677",
        "outputId": "6fd086b1-02c8-445a-b072-be861c31640c",
        "colab": {
          "base_uri": "https://localhost:8080/",
          "height": 645
        }
      },
      "outputs": [
        {
          "output_type": "execute_result",
          "data": {
            "text/plain": [
              "              Missing Ratio\n",
              "PoolQC            99.520548\n",
              "MiscFeature       96.301370\n",
              "Alley             93.767123\n",
              "Fence             80.753425\n",
              "FireplaceQu       47.260274\n",
              "LotFrontage       17.739726\n",
              "GarageType         5.547945\n",
              "GarageYrBlt        5.547945\n",
              "GarageFinish       5.547945\n",
              "GarageQual         5.547945\n",
              "GarageCond         5.547945\n",
              "BsmtExposure       2.602740\n",
              "BsmtFinType2       2.602740\n",
              "BsmtFinType1       2.534247\n",
              "BsmtCond           2.534247\n",
              "BsmtQual           2.534247\n",
              "MasVnrArea         0.547945\n",
              "MasVnrType         0.547945\n",
              "Electrical         0.068493"
            ],
            "text/html": [
              "\n",
              "  <div id=\"df-b7a38e6c-affb-45e1-a9fa-5ce66193d003\">\n",
              "    <div class=\"colab-df-container\">\n",
              "      <div>\n",
              "<style scoped>\n",
              "    .dataframe tbody tr th:only-of-type {\n",
              "        vertical-align: middle;\n",
              "    }\n",
              "\n",
              "    .dataframe tbody tr th {\n",
              "        vertical-align: top;\n",
              "    }\n",
              "\n",
              "    .dataframe thead th {\n",
              "        text-align: right;\n",
              "    }\n",
              "</style>\n",
              "<table border=\"1\" class=\"dataframe\">\n",
              "  <thead>\n",
              "    <tr style=\"text-align: right;\">\n",
              "      <th></th>\n",
              "      <th>Missing Ratio</th>\n",
              "    </tr>\n",
              "  </thead>\n",
              "  <tbody>\n",
              "    <tr>\n",
              "      <th>PoolQC</th>\n",
              "      <td>99.520548</td>\n",
              "    </tr>\n",
              "    <tr>\n",
              "      <th>MiscFeature</th>\n",
              "      <td>96.301370</td>\n",
              "    </tr>\n",
              "    <tr>\n",
              "      <th>Alley</th>\n",
              "      <td>93.767123</td>\n",
              "    </tr>\n",
              "    <tr>\n",
              "      <th>Fence</th>\n",
              "      <td>80.753425</td>\n",
              "    </tr>\n",
              "    <tr>\n",
              "      <th>FireplaceQu</th>\n",
              "      <td>47.260274</td>\n",
              "    </tr>\n",
              "    <tr>\n",
              "      <th>LotFrontage</th>\n",
              "      <td>17.739726</td>\n",
              "    </tr>\n",
              "    <tr>\n",
              "      <th>GarageType</th>\n",
              "      <td>5.547945</td>\n",
              "    </tr>\n",
              "    <tr>\n",
              "      <th>GarageYrBlt</th>\n",
              "      <td>5.547945</td>\n",
              "    </tr>\n",
              "    <tr>\n",
              "      <th>GarageFinish</th>\n",
              "      <td>5.547945</td>\n",
              "    </tr>\n",
              "    <tr>\n",
              "      <th>GarageQual</th>\n",
              "      <td>5.547945</td>\n",
              "    </tr>\n",
              "    <tr>\n",
              "      <th>GarageCond</th>\n",
              "      <td>5.547945</td>\n",
              "    </tr>\n",
              "    <tr>\n",
              "      <th>BsmtExposure</th>\n",
              "      <td>2.602740</td>\n",
              "    </tr>\n",
              "    <tr>\n",
              "      <th>BsmtFinType2</th>\n",
              "      <td>2.602740</td>\n",
              "    </tr>\n",
              "    <tr>\n",
              "      <th>BsmtFinType1</th>\n",
              "      <td>2.534247</td>\n",
              "    </tr>\n",
              "    <tr>\n",
              "      <th>BsmtCond</th>\n",
              "      <td>2.534247</td>\n",
              "    </tr>\n",
              "    <tr>\n",
              "      <th>BsmtQual</th>\n",
              "      <td>2.534247</td>\n",
              "    </tr>\n",
              "    <tr>\n",
              "      <th>MasVnrArea</th>\n",
              "      <td>0.547945</td>\n",
              "    </tr>\n",
              "    <tr>\n",
              "      <th>MasVnrType</th>\n",
              "      <td>0.547945</td>\n",
              "    </tr>\n",
              "    <tr>\n",
              "      <th>Electrical</th>\n",
              "      <td>0.068493</td>\n",
              "    </tr>\n",
              "  </tbody>\n",
              "</table>\n",
              "</div>\n",
              "      <button class=\"colab-df-convert\" onclick=\"convertToInteractive('df-b7a38e6c-affb-45e1-a9fa-5ce66193d003')\"\n",
              "              title=\"Convert this dataframe to an interactive table.\"\n",
              "              style=\"display:none;\">\n",
              "        \n",
              "  <svg xmlns=\"http://www.w3.org/2000/svg\" height=\"24px\"viewBox=\"0 0 24 24\"\n",
              "       width=\"24px\">\n",
              "    <path d=\"M0 0h24v24H0V0z\" fill=\"none\"/>\n",
              "    <path d=\"M18.56 5.44l.94 2.06.94-2.06 2.06-.94-2.06-.94-.94-2.06-.94 2.06-2.06.94zm-11 1L8.5 8.5l.94-2.06 2.06-.94-2.06-.94L8.5 2.5l-.94 2.06-2.06.94zm10 10l.94 2.06.94-2.06 2.06-.94-2.06-.94-.94-2.06-.94 2.06-2.06.94z\"/><path d=\"M17.41 7.96l-1.37-1.37c-.4-.4-.92-.59-1.43-.59-.52 0-1.04.2-1.43.59L10.3 9.45l-7.72 7.72c-.78.78-.78 2.05 0 2.83L4 21.41c.39.39.9.59 1.41.59.51 0 1.02-.2 1.41-.59l7.78-7.78 2.81-2.81c.8-.78.8-2.07 0-2.86zM5.41 20L4 18.59l7.72-7.72 1.47 1.35L5.41 20z\"/>\n",
              "  </svg>\n",
              "      </button>\n",
              "      \n",
              "  <style>\n",
              "    .colab-df-container {\n",
              "      display:flex;\n",
              "      flex-wrap:wrap;\n",
              "      gap: 12px;\n",
              "    }\n",
              "\n",
              "    .colab-df-convert {\n",
              "      background-color: #E8F0FE;\n",
              "      border: none;\n",
              "      border-radius: 50%;\n",
              "      cursor: pointer;\n",
              "      display: none;\n",
              "      fill: #1967D2;\n",
              "      height: 32px;\n",
              "      padding: 0 0 0 0;\n",
              "      width: 32px;\n",
              "    }\n",
              "\n",
              "    .colab-df-convert:hover {\n",
              "      background-color: #E2EBFA;\n",
              "      box-shadow: 0px 1px 2px rgba(60, 64, 67, 0.3), 0px 1px 3px 1px rgba(60, 64, 67, 0.15);\n",
              "      fill: #174EA6;\n",
              "    }\n",
              "\n",
              "    [theme=dark] .colab-df-convert {\n",
              "      background-color: #3B4455;\n",
              "      fill: #D2E3FC;\n",
              "    }\n",
              "\n",
              "    [theme=dark] .colab-df-convert:hover {\n",
              "      background-color: #434B5C;\n",
              "      box-shadow: 0px 1px 3px 1px rgba(0, 0, 0, 0.15);\n",
              "      filter: drop-shadow(0px 1px 2px rgba(0, 0, 0, 0.3));\n",
              "      fill: #FFFFFF;\n",
              "    }\n",
              "  </style>\n",
              "\n",
              "      <script>\n",
              "        const buttonEl =\n",
              "          document.querySelector('#df-b7a38e6c-affb-45e1-a9fa-5ce66193d003 button.colab-df-convert');\n",
              "        buttonEl.style.display =\n",
              "          google.colab.kernel.accessAllowed ? 'block' : 'none';\n",
              "\n",
              "        async function convertToInteractive(key) {\n",
              "          const element = document.querySelector('#df-b7a38e6c-affb-45e1-a9fa-5ce66193d003');\n",
              "          const dataTable =\n",
              "            await google.colab.kernel.invokeFunction('convertToInteractive',\n",
              "                                                     [key], {});\n",
              "          if (!dataTable) return;\n",
              "\n",
              "          const docLinkHtml = 'Like what you see? Visit the ' +\n",
              "            '<a target=\"_blank\" href=https://colab.research.google.com/notebooks/data_table.ipynb>data table notebook</a>'\n",
              "            + ' to learn more about interactive tables.';\n",
              "          element.innerHTML = '';\n",
              "          dataTable['output_type'] = 'display_data';\n",
              "          await google.colab.output.renderOutput(dataTable, element);\n",
              "          const docLink = document.createElement('div');\n",
              "          docLink.innerHTML = docLinkHtml;\n",
              "          element.appendChild(docLink);\n",
              "        }\n",
              "      </script>\n",
              "    </div>\n",
              "  </div>\n",
              "  "
            ]
          },
          "metadata": {},
          "execution_count": 20
        }
      ],
      "source": [
        "def missing_ratio(df):\n",
        "    '''Calculate % of observations with a NaN value for each column of a df'''\n",
        "    data_na = (df.isnull().sum() / len(df)) * 100\n",
        "    data_na = data_na.drop(data_na[data_na == 0].index)\\\n",
        "                     .sort_values(ascending=False)[:30]\n",
        "\n",
        "    missing_data = pd.DataFrame({'Missing Ratio': data_na})\n",
        "    return missing_data\n",
        "\n",
        "missing_ratio(house_train)"
      ]
    },
    {
      "cell_type": "code",
      "execution_count": 21,
      "id": "97ca57c0",
      "metadata": {
        "id": "97ca57c0"
      },
      "outputs": [],
      "source": [
        "def handle_missing_data(df,\n",
        "                        drop_features=None,\n",
        "                        none_features=None,\n",
        "                        med_features=None,\n",
        "                        mode_features=None,\n",
        "                        convert_features=None\n",
        "                       ):\n",
        "    '''\n",
        "    Perform basic feature engineering as applicable to each feature / set of features.\n",
        "    Includes imputation of NaN, mean normalization, and feature dropping.\n",
        "\n",
        "    df:                the dataframe to be transformed\n",
        "    drop_features:     columns that should be dorpped from the dataframe\n",
        "    none_features:     columns where NaN should be replaced with None or 0\n",
        "    med_features:      numeric columns where NaN should be replaced with the median value\n",
        "    mode_features:     numeric columns where NaN should be replaced with the mode value\n",
        "    convert_features:  numeric columns that should be converted to ordinal features\n",
        "    '''\n",
        "    \n",
        "    df = df.drop(drop_features, axis=1)\n",
        "\n",
        "    for feature in none_features:\n",
        "        if df[feature].dtype == 'O':\n",
        "            df[feature] = df[feature].fillna(\"None\")\n",
        "        else:\n",
        "            df[feature] = df[feature].fillna(0)\n",
        "    \n",
        "    for feature in med_features:\n",
        "        df[feature] = df[feature].fillna(df[feature].median()[0])\n",
        "    \n",
        "    for feature in mode_features:\n",
        "        df[feature] = df[feature].fillna(df[feature].mode()[0])\n",
        "    \n",
        "    for feature in convert_features:\n",
        "        df[feature] = df[feature].astype(str)\n",
        "    \n",
        "    return df\n",
        "\n",
        "\n"
      ]
    },
    {
      "cell_type": "code",
      "execution_count": 22,
      "id": "dc93742f",
      "metadata": {
        "id": "dc93742f"
      },
      "outputs": [],
      "source": [
        "# Features to drop from df\n",
        "drop_features = ['Id', 'Utilities'] # all same value except for 2 NA\n",
        "\n",
        "# Features to replace NaN with None or 0 - logical assumption that NaN means the house does not have X feature\n",
        "none_features = ['PoolQC', 'MiscFeature', 'Alley', 'Fence', 'FireplaceQu', 'BsmtQual',\n",
        "                 'BsmtCond', 'BsmtExposure', 'BsmtFinType1', 'BsmtFinType2', 'MasVnrType',\n",
        "                 'GarageType', 'GarageFinish', 'GarageQual', 'GarageCond', 'GarageYrBlt',\n",
        "                 'GarageArea', 'GarageCars', 'BsmtFinSF1', 'BsmtFinSF2', 'BsmtUnfSF',\n",
        "                 'TotalBsmtSF', 'BsmtFullBath', 'BsmtHalfBath', 'MasVnrArea', 'MSSubClass'\n",
        "                ]\n",
        "\n",
        "# Features to fill NaN with the median value of the column\n",
        "med_features = []\n",
        "\n",
        "\n",
        "# Features to fill NaN with the mode value of the column\n",
        "mode_features = ['MSZoning', 'Electrical', 'KitchenQual', 'Exterior1st', 'Exterior2nd',\n",
        "                 'SaleType'\n",
        "                ]\n",
        "    \n",
        "# Numeric features that are actually ordinal and should be converted\n",
        "convert_features = ['MSSubClass', 'OverallCond', 'YrSold', 'MoSold']\n",
        "\n",
        "house_train = handle_missing_data(house_train,\n",
        "                                  drop_features,\n",
        "                                  none_features,\n",
        "                                  med_features,\n",
        "                                  mode_features,\n",
        "                                  convert_features\n",
        "                                 )\n"
      ]
    },
    {
      "cell_type": "markdown",
      "id": "caad4551",
      "metadata": {
        "id": "caad4551"
      },
      "source": [
        "### 2.2 Custom transformation"
      ]
    },
    {
      "cell_type": "code",
      "execution_count": 23,
      "id": "365bdfa4",
      "metadata": {
        "id": "365bdfa4"
      },
      "outputs": [],
      "source": [
        "def custom_feature_engineering(df):\n",
        "    '''Apply custom operations to dataframe. Contained in a function for re-use with test data'''\n",
        "\n",
        "    # Fill NaN values for LotFrontage with median in each neighborhood\n",
        "    df['LotFrontage'] = df.groupby('Neighborhood')['LotFrontage'].transform(lambda x: x.fillna(x.median()))\n",
        "\n",
        "    # For Functional column, data_description.txt indicates that NaN = Typ\n",
        "    df['Functional'] = df['Functional'].fillna('Typ')\n",
        "\n",
        "    # Calculate total sqft of house as a new feature\n",
        "    df['TotalSF'] = df[['TotalBsmtSF', '1stFlrSF', '2ndFlrSF']].sum(axis=1)\n",
        "\n",
        "    return df\n",
        "\n",
        "house_train = custom_feature_engineering(house_train)"
      ]
    },
    {
      "cell_type": "code",
      "execution_count": 24,
      "id": "6c5054a0",
      "metadata": {
        "id": "6c5054a0",
        "outputId": "ec7a09f0-1f87-432d-e351-4117763c609d",
        "colab": {
          "base_uri": "https://localhost:8080/",
          "height": 49
        }
      },
      "outputs": [
        {
          "output_type": "execute_result",
          "data": {
            "text/plain": [
              "Empty DataFrame\n",
              "Columns: [Missing Ratio]\n",
              "Index: []"
            ],
            "text/html": [
              "\n",
              "  <div id=\"df-35d6804f-d086-4a2b-8a7b-80be80b3b38d\">\n",
              "    <div class=\"colab-df-container\">\n",
              "      <div>\n",
              "<style scoped>\n",
              "    .dataframe tbody tr th:only-of-type {\n",
              "        vertical-align: middle;\n",
              "    }\n",
              "\n",
              "    .dataframe tbody tr th {\n",
              "        vertical-align: top;\n",
              "    }\n",
              "\n",
              "    .dataframe thead th {\n",
              "        text-align: right;\n",
              "    }\n",
              "</style>\n",
              "<table border=\"1\" class=\"dataframe\">\n",
              "  <thead>\n",
              "    <tr style=\"text-align: right;\">\n",
              "      <th></th>\n",
              "      <th>Missing Ratio</th>\n",
              "    </tr>\n",
              "  </thead>\n",
              "  <tbody>\n",
              "  </tbody>\n",
              "</table>\n",
              "</div>\n",
              "      <button class=\"colab-df-convert\" onclick=\"convertToInteractive('df-35d6804f-d086-4a2b-8a7b-80be80b3b38d')\"\n",
              "              title=\"Convert this dataframe to an interactive table.\"\n",
              "              style=\"display:none;\">\n",
              "        \n",
              "  <svg xmlns=\"http://www.w3.org/2000/svg\" height=\"24px\"viewBox=\"0 0 24 24\"\n",
              "       width=\"24px\">\n",
              "    <path d=\"M0 0h24v24H0V0z\" fill=\"none\"/>\n",
              "    <path d=\"M18.56 5.44l.94 2.06.94-2.06 2.06-.94-2.06-.94-.94-2.06-.94 2.06-2.06.94zm-11 1L8.5 8.5l.94-2.06 2.06-.94-2.06-.94L8.5 2.5l-.94 2.06-2.06.94zm10 10l.94 2.06.94-2.06 2.06-.94-2.06-.94-.94-2.06-.94 2.06-2.06.94z\"/><path d=\"M17.41 7.96l-1.37-1.37c-.4-.4-.92-.59-1.43-.59-.52 0-1.04.2-1.43.59L10.3 9.45l-7.72 7.72c-.78.78-.78 2.05 0 2.83L4 21.41c.39.39.9.59 1.41.59.51 0 1.02-.2 1.41-.59l7.78-7.78 2.81-2.81c.8-.78.8-2.07 0-2.86zM5.41 20L4 18.59l7.72-7.72 1.47 1.35L5.41 20z\"/>\n",
              "  </svg>\n",
              "      </button>\n",
              "      \n",
              "  <style>\n",
              "    .colab-df-container {\n",
              "      display:flex;\n",
              "      flex-wrap:wrap;\n",
              "      gap: 12px;\n",
              "    }\n",
              "\n",
              "    .colab-df-convert {\n",
              "      background-color: #E8F0FE;\n",
              "      border: none;\n",
              "      border-radius: 50%;\n",
              "      cursor: pointer;\n",
              "      display: none;\n",
              "      fill: #1967D2;\n",
              "      height: 32px;\n",
              "      padding: 0 0 0 0;\n",
              "      width: 32px;\n",
              "    }\n",
              "\n",
              "    .colab-df-convert:hover {\n",
              "      background-color: #E2EBFA;\n",
              "      box-shadow: 0px 1px 2px rgba(60, 64, 67, 0.3), 0px 1px 3px 1px rgba(60, 64, 67, 0.15);\n",
              "      fill: #174EA6;\n",
              "    }\n",
              "\n",
              "    [theme=dark] .colab-df-convert {\n",
              "      background-color: #3B4455;\n",
              "      fill: #D2E3FC;\n",
              "    }\n",
              "\n",
              "    [theme=dark] .colab-df-convert:hover {\n",
              "      background-color: #434B5C;\n",
              "      box-shadow: 0px 1px 3px 1px rgba(0, 0, 0, 0.15);\n",
              "      filter: drop-shadow(0px 1px 2px rgba(0, 0, 0, 0.3));\n",
              "      fill: #FFFFFF;\n",
              "    }\n",
              "  </style>\n",
              "\n",
              "      <script>\n",
              "        const buttonEl =\n",
              "          document.querySelector('#df-35d6804f-d086-4a2b-8a7b-80be80b3b38d button.colab-df-convert');\n",
              "        buttonEl.style.display =\n",
              "          google.colab.kernel.accessAllowed ? 'block' : 'none';\n",
              "\n",
              "        async function convertToInteractive(key) {\n",
              "          const element = document.querySelector('#df-35d6804f-d086-4a2b-8a7b-80be80b3b38d');\n",
              "          const dataTable =\n",
              "            await google.colab.kernel.invokeFunction('convertToInteractive',\n",
              "                                                     [key], {});\n",
              "          if (!dataTable) return;\n",
              "\n",
              "          const docLinkHtml = 'Like what you see? Visit the ' +\n",
              "            '<a target=\"_blank\" href=https://colab.research.google.com/notebooks/data_table.ipynb>data table notebook</a>'\n",
              "            + ' to learn more about interactive tables.';\n",
              "          element.innerHTML = '';\n",
              "          dataTable['output_type'] = 'display_data';\n",
              "          await google.colab.output.renderOutput(dataTable, element);\n",
              "          const docLink = document.createElement('div');\n",
              "          docLink.innerHTML = docLinkHtml;\n",
              "          element.appendChild(docLink);\n",
              "        }\n",
              "      </script>\n",
              "    </div>\n",
              "  </div>\n",
              "  "
            ]
          },
          "metadata": {},
          "execution_count": 24
        }
      ],
      "source": [
        "# Check that there are no remaining missing values\n",
        "missing_ratio(house_train)"
      ]
    },
    {
      "cell_type": "markdown",
      "id": "11441182",
      "metadata": {
        "id": "11441182"
      },
      "source": [
        "### 2.X Normalizing variables"
      ]
    },
    {
      "cell_type": "code",
      "execution_count": 25,
      "id": "0aa4c687",
      "metadata": {
        "id": "0aa4c687",
        "outputId": "f464e457-7518-41f6-ae86-0ee32566abe8",
        "colab": {
          "base_uri": "https://localhost:8080/",
          "height": 143
        }
      },
      "outputs": [
        {
          "output_type": "execute_result",
          "data": {
            "text/plain": [
              "                     skew    kurtosis\n",
              "pandas          12.207688  203.243271\n",
              "scipy-unbiased  12.207688  203.243271\n",
              "scipy-biased    12.195142  202.543793"
            ],
            "text/html": [
              "\n",
              "  <div id=\"df-b5968119-2c68-4891-a77c-439c5534c4df\">\n",
              "    <div class=\"colab-df-container\">\n",
              "      <div>\n",
              "<style scoped>\n",
              "    .dataframe tbody tr th:only-of-type {\n",
              "        vertical-align: middle;\n",
              "    }\n",
              "\n",
              "    .dataframe tbody tr th {\n",
              "        vertical-align: top;\n",
              "    }\n",
              "\n",
              "    .dataframe thead th {\n",
              "        text-align: right;\n",
              "    }\n",
              "</style>\n",
              "<table border=\"1\" class=\"dataframe\">\n",
              "  <thead>\n",
              "    <tr style=\"text-align: right;\">\n",
              "      <th></th>\n",
              "      <th>skew</th>\n",
              "      <th>kurtosis</th>\n",
              "    </tr>\n",
              "  </thead>\n",
              "  <tbody>\n",
              "    <tr>\n",
              "      <th>pandas</th>\n",
              "      <td>12.207688</td>\n",
              "      <td>203.243271</td>\n",
              "    </tr>\n",
              "    <tr>\n",
              "      <th>scipy-unbiased</th>\n",
              "      <td>12.207688</td>\n",
              "      <td>203.243271</td>\n",
              "    </tr>\n",
              "    <tr>\n",
              "      <th>scipy-biased</th>\n",
              "      <td>12.195142</td>\n",
              "      <td>202.543793</td>\n",
              "    </tr>\n",
              "  </tbody>\n",
              "</table>\n",
              "</div>\n",
              "      <button class=\"colab-df-convert\" onclick=\"convertToInteractive('df-b5968119-2c68-4891-a77c-439c5534c4df')\"\n",
              "              title=\"Convert this dataframe to an interactive table.\"\n",
              "              style=\"display:none;\">\n",
              "        \n",
              "  <svg xmlns=\"http://www.w3.org/2000/svg\" height=\"24px\"viewBox=\"0 0 24 24\"\n",
              "       width=\"24px\">\n",
              "    <path d=\"M0 0h24v24H0V0z\" fill=\"none\"/>\n",
              "    <path d=\"M18.56 5.44l.94 2.06.94-2.06 2.06-.94-2.06-.94-.94-2.06-.94 2.06-2.06.94zm-11 1L8.5 8.5l.94-2.06 2.06-.94-2.06-.94L8.5 2.5l-.94 2.06-2.06.94zm10 10l.94 2.06.94-2.06 2.06-.94-2.06-.94-.94-2.06-.94 2.06-2.06.94z\"/><path d=\"M17.41 7.96l-1.37-1.37c-.4-.4-.92-.59-1.43-.59-.52 0-1.04.2-1.43.59L10.3 9.45l-7.72 7.72c-.78.78-.78 2.05 0 2.83L4 21.41c.39.39.9.59 1.41.59.51 0 1.02-.2 1.41-.59l7.78-7.78 2.81-2.81c.8-.78.8-2.07 0-2.86zM5.41 20L4 18.59l7.72-7.72 1.47 1.35L5.41 20z\"/>\n",
              "  </svg>\n",
              "      </button>\n",
              "      \n",
              "  <style>\n",
              "    .colab-df-container {\n",
              "      display:flex;\n",
              "      flex-wrap:wrap;\n",
              "      gap: 12px;\n",
              "    }\n",
              "\n",
              "    .colab-df-convert {\n",
              "      background-color: #E8F0FE;\n",
              "      border: none;\n",
              "      border-radius: 50%;\n",
              "      cursor: pointer;\n",
              "      display: none;\n",
              "      fill: #1967D2;\n",
              "      height: 32px;\n",
              "      padding: 0 0 0 0;\n",
              "      width: 32px;\n",
              "    }\n",
              "\n",
              "    .colab-df-convert:hover {\n",
              "      background-color: #E2EBFA;\n",
              "      box-shadow: 0px 1px 2px rgba(60, 64, 67, 0.3), 0px 1px 3px 1px rgba(60, 64, 67, 0.15);\n",
              "      fill: #174EA6;\n",
              "    }\n",
              "\n",
              "    [theme=dark] .colab-df-convert {\n",
              "      background-color: #3B4455;\n",
              "      fill: #D2E3FC;\n",
              "    }\n",
              "\n",
              "    [theme=dark] .colab-df-convert:hover {\n",
              "      background-color: #434B5C;\n",
              "      box-shadow: 0px 1px 3px 1px rgba(0, 0, 0, 0.15);\n",
              "      filter: drop-shadow(0px 1px 2px rgba(0, 0, 0, 0.3));\n",
              "      fill: #FFFFFF;\n",
              "    }\n",
              "  </style>\n",
              "\n",
              "      <script>\n",
              "        const buttonEl =\n",
              "          document.querySelector('#df-b5968119-2c68-4891-a77c-439c5534c4df button.colab-df-convert');\n",
              "        buttonEl.style.display =\n",
              "          google.colab.kernel.accessAllowed ? 'block' : 'none';\n",
              "\n",
              "        async function convertToInteractive(key) {\n",
              "          const element = document.querySelector('#df-b5968119-2c68-4891-a77c-439c5534c4df');\n",
              "          const dataTable =\n",
              "            await google.colab.kernel.invokeFunction('convertToInteractive',\n",
              "                                                     [key], {});\n",
              "          if (!dataTable) return;\n",
              "\n",
              "          const docLinkHtml = 'Like what you see? Visit the ' +\n",
              "            '<a target=\"_blank\" href=https://colab.research.google.com/notebooks/data_table.ipynb>data table notebook</a>'\n",
              "            + ' to learn more about interactive tables.';\n",
              "          element.innerHTML = '';\n",
              "          dataTable['output_type'] = 'display_data';\n",
              "          await google.colab.output.renderOutput(dataTable, element);\n",
              "          const docLink = document.createElement('div');\n",
              "          docLink.innerHTML = docLinkHtml;\n",
              "          element.appendChild(docLink);\n",
              "        }\n",
              "      </script>\n",
              "    </div>\n",
              "  </div>\n",
              "  "
            ]
          },
          "metadata": {},
          "execution_count": 25
        }
      ],
      "source": [
        "# Explore skew and kurtosis functions in pandas and scipy\n",
        "pd_skew    = house_train['LotArea'].skew()\n",
        "pd_kurt    = house_train['LotArea'].kurt()\n",
        "sci_skew   = skew(house_train['LotArea'], bias=False)\n",
        "sci_kurt   = kurtosis(house_train['LotArea'], bias=False)\n",
        "sci_skew_b = skew(house_train['LotArea'], bias=True)\n",
        "sci_kurt_b = kurtosis(house_train['LotArea'], bias=True)\n",
        "\n",
        "pd.DataFrame({'skew': [pd_skew, sci_skew, sci_skew_b],\n",
        "              'kurtosis': [pd_kurt, sci_kurt, sci_kurt_b]},\n",
        "             index=['pandas', 'scipy-unbiased', 'scipy-biased']\n",
        "            )"
      ]
    },
    {
      "cell_type": "code",
      "execution_count": 26,
      "id": "1dd935ec",
      "metadata": {
        "id": "1dd935ec",
        "outputId": "56a32821-f200-4d3a-aa56-862887ca11cd",
        "colab": {
          "base_uri": "https://localhost:8080/",
          "height": 1000
        }
      },
      "outputs": [
        {
          "output_type": "execute_result",
          "data": {
            "text/plain": [
              "                    skew    kurtosis\n",
              "MiscVal        24.476794  701.003342\n",
              "PoolArea       14.828374  223.268499\n",
              "LotArea        12.207688  203.243271\n",
              "3SsnPorch      10.304342  123.662379\n",
              "LowQualFinSF    9.011341   83.234817\n",
              "KitchenAbvGr    4.488397   21.532404\n",
              "BsmtFinSF2      4.255261   20.113338\n",
              "ScreenPorch     4.122214   18.439068\n",
              "BsmtHalfBath    4.103403   16.396642\n",
              "EnclosedPorch   3.089872   10.430766\n",
              "MasVnrArea      2.677616   10.141416\n",
              "OpenPorchSF     2.364342    8.490336\n",
              "LotFrontage     2.212959   20.099108\n",
              "SalePrice       1.882876    6.536282\n",
              "TotalSF         1.776700   12.621968\n",
              "BsmtFinSF1      1.685503   11.118236\n",
              "WoodDeckSF      1.541376    2.992951\n",
              "TotalBsmtSF     1.524255   13.250483\n",
              "1stFlrSF        1.376757    5.745841\n",
              "GrLivArea       1.366560    4.895121\n",
              "BsmtUnfSF       0.920268    0.474994\n",
              "2ndFlrSF        0.813030   -0.553464\n",
              "TotRmsAbvGrd    0.676341    0.880762\n",
              "HalfBath        0.675897   -1.076927\n",
              "Fireplaces      0.649565   -0.217237\n",
              "BsmtFullBath    0.596067   -0.839098\n",
              "OverallQual     0.216944    0.096293\n",
              "BedroomAbvGr    0.211790    2.230875\n",
              "GarageArea      0.179981    0.917067\n",
              "FullBath        0.036562   -0.857043\n",
              "GarageCars     -0.342549    0.220998\n",
              "YearRemodAdd   -0.503562   -1.272245\n",
              "YearBuilt      -0.613461   -0.439552\n",
              "GarageYrBlt    -3.869501   13.043226"
            ],
            "text/html": [
              "\n",
              "  <div id=\"df-69eaa6a1-1214-4f87-9929-5c45d62e1178\">\n",
              "    <div class=\"colab-df-container\">\n",
              "      <div>\n",
              "<style scoped>\n",
              "    .dataframe tbody tr th:only-of-type {\n",
              "        vertical-align: middle;\n",
              "    }\n",
              "\n",
              "    .dataframe tbody tr th {\n",
              "        vertical-align: top;\n",
              "    }\n",
              "\n",
              "    .dataframe thead th {\n",
              "        text-align: right;\n",
              "    }\n",
              "</style>\n",
              "<table border=\"1\" class=\"dataframe\">\n",
              "  <thead>\n",
              "    <tr style=\"text-align: right;\">\n",
              "      <th></th>\n",
              "      <th>skew</th>\n",
              "      <th>kurtosis</th>\n",
              "    </tr>\n",
              "  </thead>\n",
              "  <tbody>\n",
              "    <tr>\n",
              "      <th>MiscVal</th>\n",
              "      <td>24.476794</td>\n",
              "      <td>701.003342</td>\n",
              "    </tr>\n",
              "    <tr>\n",
              "      <th>PoolArea</th>\n",
              "      <td>14.828374</td>\n",
              "      <td>223.268499</td>\n",
              "    </tr>\n",
              "    <tr>\n",
              "      <th>LotArea</th>\n",
              "      <td>12.207688</td>\n",
              "      <td>203.243271</td>\n",
              "    </tr>\n",
              "    <tr>\n",
              "      <th>3SsnPorch</th>\n",
              "      <td>10.304342</td>\n",
              "      <td>123.662379</td>\n",
              "    </tr>\n",
              "    <tr>\n",
              "      <th>LowQualFinSF</th>\n",
              "      <td>9.011341</td>\n",
              "      <td>83.234817</td>\n",
              "    </tr>\n",
              "    <tr>\n",
              "      <th>KitchenAbvGr</th>\n",
              "      <td>4.488397</td>\n",
              "      <td>21.532404</td>\n",
              "    </tr>\n",
              "    <tr>\n",
              "      <th>BsmtFinSF2</th>\n",
              "      <td>4.255261</td>\n",
              "      <td>20.113338</td>\n",
              "    </tr>\n",
              "    <tr>\n",
              "      <th>ScreenPorch</th>\n",
              "      <td>4.122214</td>\n",
              "      <td>18.439068</td>\n",
              "    </tr>\n",
              "    <tr>\n",
              "      <th>BsmtHalfBath</th>\n",
              "      <td>4.103403</td>\n",
              "      <td>16.396642</td>\n",
              "    </tr>\n",
              "    <tr>\n",
              "      <th>EnclosedPorch</th>\n",
              "      <td>3.089872</td>\n",
              "      <td>10.430766</td>\n",
              "    </tr>\n",
              "    <tr>\n",
              "      <th>MasVnrArea</th>\n",
              "      <td>2.677616</td>\n",
              "      <td>10.141416</td>\n",
              "    </tr>\n",
              "    <tr>\n",
              "      <th>OpenPorchSF</th>\n",
              "      <td>2.364342</td>\n",
              "      <td>8.490336</td>\n",
              "    </tr>\n",
              "    <tr>\n",
              "      <th>LotFrontage</th>\n",
              "      <td>2.212959</td>\n",
              "      <td>20.099108</td>\n",
              "    </tr>\n",
              "    <tr>\n",
              "      <th>SalePrice</th>\n",
              "      <td>1.882876</td>\n",
              "      <td>6.536282</td>\n",
              "    </tr>\n",
              "    <tr>\n",
              "      <th>TotalSF</th>\n",
              "      <td>1.776700</td>\n",
              "      <td>12.621968</td>\n",
              "    </tr>\n",
              "    <tr>\n",
              "      <th>BsmtFinSF1</th>\n",
              "      <td>1.685503</td>\n",
              "      <td>11.118236</td>\n",
              "    </tr>\n",
              "    <tr>\n",
              "      <th>WoodDeckSF</th>\n",
              "      <td>1.541376</td>\n",
              "      <td>2.992951</td>\n",
              "    </tr>\n",
              "    <tr>\n",
              "      <th>TotalBsmtSF</th>\n",
              "      <td>1.524255</td>\n",
              "      <td>13.250483</td>\n",
              "    </tr>\n",
              "    <tr>\n",
              "      <th>1stFlrSF</th>\n",
              "      <td>1.376757</td>\n",
              "      <td>5.745841</td>\n",
              "    </tr>\n",
              "    <tr>\n",
              "      <th>GrLivArea</th>\n",
              "      <td>1.366560</td>\n",
              "      <td>4.895121</td>\n",
              "    </tr>\n",
              "    <tr>\n",
              "      <th>BsmtUnfSF</th>\n",
              "      <td>0.920268</td>\n",
              "      <td>0.474994</td>\n",
              "    </tr>\n",
              "    <tr>\n",
              "      <th>2ndFlrSF</th>\n",
              "      <td>0.813030</td>\n",
              "      <td>-0.553464</td>\n",
              "    </tr>\n",
              "    <tr>\n",
              "      <th>TotRmsAbvGrd</th>\n",
              "      <td>0.676341</td>\n",
              "      <td>0.880762</td>\n",
              "    </tr>\n",
              "    <tr>\n",
              "      <th>HalfBath</th>\n",
              "      <td>0.675897</td>\n",
              "      <td>-1.076927</td>\n",
              "    </tr>\n",
              "    <tr>\n",
              "      <th>Fireplaces</th>\n",
              "      <td>0.649565</td>\n",
              "      <td>-0.217237</td>\n",
              "    </tr>\n",
              "    <tr>\n",
              "      <th>BsmtFullBath</th>\n",
              "      <td>0.596067</td>\n",
              "      <td>-0.839098</td>\n",
              "    </tr>\n",
              "    <tr>\n",
              "      <th>OverallQual</th>\n",
              "      <td>0.216944</td>\n",
              "      <td>0.096293</td>\n",
              "    </tr>\n",
              "    <tr>\n",
              "      <th>BedroomAbvGr</th>\n",
              "      <td>0.211790</td>\n",
              "      <td>2.230875</td>\n",
              "    </tr>\n",
              "    <tr>\n",
              "      <th>GarageArea</th>\n",
              "      <td>0.179981</td>\n",
              "      <td>0.917067</td>\n",
              "    </tr>\n",
              "    <tr>\n",
              "      <th>FullBath</th>\n",
              "      <td>0.036562</td>\n",
              "      <td>-0.857043</td>\n",
              "    </tr>\n",
              "    <tr>\n",
              "      <th>GarageCars</th>\n",
              "      <td>-0.342549</td>\n",
              "      <td>0.220998</td>\n",
              "    </tr>\n",
              "    <tr>\n",
              "      <th>YearRemodAdd</th>\n",
              "      <td>-0.503562</td>\n",
              "      <td>-1.272245</td>\n",
              "    </tr>\n",
              "    <tr>\n",
              "      <th>YearBuilt</th>\n",
              "      <td>-0.613461</td>\n",
              "      <td>-0.439552</td>\n",
              "    </tr>\n",
              "    <tr>\n",
              "      <th>GarageYrBlt</th>\n",
              "      <td>-3.869501</td>\n",
              "      <td>13.043226</td>\n",
              "    </tr>\n",
              "  </tbody>\n",
              "</table>\n",
              "</div>\n",
              "      <button class=\"colab-df-convert\" onclick=\"convertToInteractive('df-69eaa6a1-1214-4f87-9929-5c45d62e1178')\"\n",
              "              title=\"Convert this dataframe to an interactive table.\"\n",
              "              style=\"display:none;\">\n",
              "        \n",
              "  <svg xmlns=\"http://www.w3.org/2000/svg\" height=\"24px\"viewBox=\"0 0 24 24\"\n",
              "       width=\"24px\">\n",
              "    <path d=\"M0 0h24v24H0V0z\" fill=\"none\"/>\n",
              "    <path d=\"M18.56 5.44l.94 2.06.94-2.06 2.06-.94-2.06-.94-.94-2.06-.94 2.06-2.06.94zm-11 1L8.5 8.5l.94-2.06 2.06-.94-2.06-.94L8.5 2.5l-.94 2.06-2.06.94zm10 10l.94 2.06.94-2.06 2.06-.94-2.06-.94-.94-2.06-.94 2.06-2.06.94z\"/><path d=\"M17.41 7.96l-1.37-1.37c-.4-.4-.92-.59-1.43-.59-.52 0-1.04.2-1.43.59L10.3 9.45l-7.72 7.72c-.78.78-.78 2.05 0 2.83L4 21.41c.39.39.9.59 1.41.59.51 0 1.02-.2 1.41-.59l7.78-7.78 2.81-2.81c.8-.78.8-2.07 0-2.86zM5.41 20L4 18.59l7.72-7.72 1.47 1.35L5.41 20z\"/>\n",
              "  </svg>\n",
              "      </button>\n",
              "      \n",
              "  <style>\n",
              "    .colab-df-container {\n",
              "      display:flex;\n",
              "      flex-wrap:wrap;\n",
              "      gap: 12px;\n",
              "    }\n",
              "\n",
              "    .colab-df-convert {\n",
              "      background-color: #E8F0FE;\n",
              "      border: none;\n",
              "      border-radius: 50%;\n",
              "      cursor: pointer;\n",
              "      display: none;\n",
              "      fill: #1967D2;\n",
              "      height: 32px;\n",
              "      padding: 0 0 0 0;\n",
              "      width: 32px;\n",
              "    }\n",
              "\n",
              "    .colab-df-convert:hover {\n",
              "      background-color: #E2EBFA;\n",
              "      box-shadow: 0px 1px 2px rgba(60, 64, 67, 0.3), 0px 1px 3px 1px rgba(60, 64, 67, 0.15);\n",
              "      fill: #174EA6;\n",
              "    }\n",
              "\n",
              "    [theme=dark] .colab-df-convert {\n",
              "      background-color: #3B4455;\n",
              "      fill: #D2E3FC;\n",
              "    }\n",
              "\n",
              "    [theme=dark] .colab-df-convert:hover {\n",
              "      background-color: #434B5C;\n",
              "      box-shadow: 0px 1px 3px 1px rgba(0, 0, 0, 0.15);\n",
              "      filter: drop-shadow(0px 1px 2px rgba(0, 0, 0, 0.3));\n",
              "      fill: #FFFFFF;\n",
              "    }\n",
              "  </style>\n",
              "\n",
              "      <script>\n",
              "        const buttonEl =\n",
              "          document.querySelector('#df-69eaa6a1-1214-4f87-9929-5c45d62e1178 button.colab-df-convert');\n",
              "        buttonEl.style.display =\n",
              "          google.colab.kernel.accessAllowed ? 'block' : 'none';\n",
              "\n",
              "        async function convertToInteractive(key) {\n",
              "          const element = document.querySelector('#df-69eaa6a1-1214-4f87-9929-5c45d62e1178');\n",
              "          const dataTable =\n",
              "            await google.colab.kernel.invokeFunction('convertToInteractive',\n",
              "                                                     [key], {});\n",
              "          if (!dataTable) return;\n",
              "\n",
              "          const docLinkHtml = 'Like what you see? Visit the ' +\n",
              "            '<a target=\"_blank\" href=https://colab.research.google.com/notebooks/data_table.ipynb>data table notebook</a>'\n",
              "            + ' to learn more about interactive tables.';\n",
              "          element.innerHTML = '';\n",
              "          dataTable['output_type'] = 'display_data';\n",
              "          await google.colab.output.renderOutput(dataTable, element);\n",
              "          const docLink = document.createElement('div');\n",
              "          docLink.innerHTML = docLinkHtml;\n",
              "          element.appendChild(docLink);\n",
              "        }\n",
              "      </script>\n",
              "    </div>\n",
              "  </div>\n",
              "  "
            ]
          },
          "metadata": {},
          "execution_count": 26
        }
      ],
      "source": [
        "# Calculate skew and kurtosis of all numerical features\n",
        "num_features = house_train.dtypes[house_train.dtypes != \"object\"].index\n",
        "skew_features = house_train[num_features].apply(lambda x: pd.Series({'skew': x.skew(),\n",
        "                                                                     'kurtosis': x.kurtosis()\n",
        "                                                                    }))\n",
        "skew_df = pd.DataFrame({'skew': skew_features.loc['skew'],\n",
        "                        'kurtosis': skew_features.loc['kurtosis']\n",
        "                       }).sort_values(by='skew', ascending=False)\n",
        "skew_df"
      ]
    },
    {
      "cell_type": "code",
      "execution_count": 27,
      "id": "ce432619",
      "metadata": {
        "id": "ce432619"
      },
      "outputs": [],
      "source": [
        "# Apply boxcox transformation to skewed features\n",
        "from scipy.special import boxcox1p\n",
        "from sklearn.preprocessing import PowerTransformer\n",
        "\n",
        "\n",
        "# Explore 2 methods using highly skewed feature\n",
        "temp = pd.DataFrame(house_train['LotArea'])\n",
        "\n",
        "# Take the log10 of votes\n",
        "temp['LotArea_Norm'] = boxcox1p(temp['LotArea'], 0)\n",
        "\n",
        "# Apply power transformation\n",
        "pt = PowerTransformer()\n",
        "temp['LotArea_Power'] = pt.fit_transform(pd.DataFrame(temp['LotArea']))\n"
      ]
    },
    {
      "cell_type": "code",
      "execution_count": 28,
      "id": "e50d826e",
      "metadata": {
        "id": "e50d826e",
        "outputId": "4f52b1b3-2dfa-489a-99ae-5ad16038c358",
        "colab": {
          "base_uri": "https://localhost:8080/",
          "height": 726
        }
      },
      "outputs": [
        {
          "output_type": "display_data",
          "data": {
            "text/plain": [
              "<Figure size 720x864 with 1 Axes>"
            ],
            "image/png": "[encoded data removed]"
          },
          "metadata": {}
        }
      ],
      "source": [
        "fig, ax = plt.subplots(figsize=(10,12))\n",
        "sns.boxplot(x='LotArea', y='Neighborhood', orient='h', data=house_train)\n",
        "plt.show()"
      ]
    },
    {
      "cell_type": "code",
      "execution_count": 29,
      "id": "139c755f",
      "metadata": {
        "id": "139c755f",
        "outputId": "f3bf3660-fd60-42f7-de7e-78a00ce6d053",
        "colab": {
          "base_uri": "https://localhost:8080/",
          "height": 623
        }
      },
      "outputs": [
        {
          "output_type": "display_data",
          "data": {
            "text/plain": [
              "<Figure size 1440x720 with 4 Axes>"
            ],
            "image/png": "[encoded data removed]"
          },
          "metadata": {}
        }
      ],
      "source": [
        "fig, ax = plt.subplots(2,2, figsize=(20,10))\n",
        "\n",
        "sns.histplot(x='LotArea',\n",
        "             data=temp,\n",
        "             ax=ax[0][0]\n",
        "            )\n",
        "\n",
        "sns.histplot(x='LotArea_Norm',\n",
        "             data=temp,\n",
        "             ax=ax[0][1]\n",
        "            )\n",
        "\n",
        "sns.histplot(x='LotArea_Power',\n",
        "             data=temp,\n",
        "             ax=ax[1][0]\n",
        "            )\n",
        "\n",
        "plt.show()"
      ]
    },
    {
      "cell_type": "code",
      "execution_count": 30,
      "id": "3f832c28",
      "metadata": {
        "id": "3f832c28"
      },
      "outputs": [],
      "source": [
        "# Use a power transformer to normalize all featuers with skew > 1\n",
        "\n",
        "skew_df = skew_df[abs(skew_df['skew']) > 1]\n",
        "skewed_features = list(skew_df.index)\n",
        "pt = PowerTransformer()\n",
        "house_train[skewed_features] = pt.fit_transform(house_train[skewed_features])"
      ]
    },
    {
      "cell_type": "markdown",
      "id": "1454c5ad",
      "metadata": {
        "id": "1454c5ad"
      },
      "source": [
        "### 2.X Encoding variables"
      ]
    },
    {
      "cell_type": "code",
      "execution_count": 31,
      "id": "dce7f6ac",
      "metadata": {
        "id": "dce7f6ac"
      },
      "outputs": [],
      "source": [
        "# Simple pandas function to replicate a OneHotEncoder\n",
        "house_train = pd.get_dummies(house_train)"
      ]
    },
    {
      "cell_type": "markdown",
      "id": "1d782d49",
      "metadata": {
        "id": "1d782d49"
      },
      "source": [
        "### 2.X Apply across test data"
      ]
    },
    {
      "cell_type": "code",
      "execution_count": 32,
      "id": "5684ca41",
      "metadata": {
        "id": "5684ca41"
      },
      "outputs": [],
      "source": [
        "# INCOMPLETE - to be updated once feature engineering is finalized on training data\n",
        "\n",
        "# Apply same functions to test data\n",
        "house_test = handle_missing_data(house_test,\n",
        "                                 drop_features,\n",
        "                                 none_features,\n",
        "                                 med_features,\n",
        "                                 mode_features,\n",
        "                                 convert_features\n",
        "                                )\n",
        "\n",
        "\n",
        "house_test = custom_feature_engineering(house_test)\n",
        "\n"
      ]
    },
    {
      "cell_type": "markdown",
      "id": "de3c0298",
      "metadata": {
        "id": "de3c0298"
      },
      "source": [
        "## 3.0 Model building"
      ]
    },
    {
      "cell_type": "markdown",
      "id": "39690502",
      "metadata": {
        "id": "39690502"
      },
      "source": [
        "### 3.1 Model v1 - Simple linear regression\n",
        "\n",
        "For our baseline, we are building a linear regression model with `LotArea`, `BedroomAbvGr`, and `FullBath` as features."
      ]
    },
    {
      "cell_type": "code",
      "execution_count": 34,
      "id": "affb3319",
      "metadata": {
        "id": "affb3319"
      },
      "outputs": [],
      "source": [
        "initial_features = ['LotArea', 'BedroomAbvGr', 'FullBath']\n",
        "\n",
        "X, y = house_train[initial_features], house_train['SalePrice']\n",
        "X_train, X_test, y_train, y_test = train_test_split(X, y, test_size=0.2, random_state=42)"
      ]
    },
    {
      "cell_type": "code",
      "execution_count": 35,
      "id": "9d6b5ca7",
      "metadata": {
        "id": "9d6b5ca7",
        "outputId": "0b1cf93a-25ae-48c2-c105-d2578e67fe90",
        "colab": {
          "base_uri": "https://localhost:8080/",
          "height": 39
        }
      },
      "outputs": [
        {
          "output_type": "display_data",
          "data": {
            "text/plain": [
              "<IPython.core.display.Math object>"
            ],
            "text/latex": "$$R^2 \\text{ for our initial linear regression model is } 0.45$$"
          },
          "metadata": {}
        }
      ],
      "source": [
        "reg = LinearRegression().fit(X_train, y_train)\n",
        "r2 = reg.score(X_train, y_train)\n",
        "\n",
        "\n",
        "display(Math(r'R^2 \\text{{ for our initial linear regression model is }} {:.2f}'.format(r2)))"
      ]
    },
    {
      "cell_type": "code",
      "execution_count": 36,
      "id": "da0e655f",
      "metadata": {
        "id": "da0e655f",
        "outputId": "b715b117-5033-4433-8f2e-9bb5e1a7810e",
        "colab": {
          "base_uri": "https://localhost:8080/"
        }
      },
      "outputs": [
        {
          "output_type": "stream",
          "name": "stdout",
          "text": [
            "The initial model function is: y = 0.34x1 + -0.11x2 + 1.00x3 + -1.24\n"
          ]
        }
      ],
      "source": [
        "x1, x2, x3 = reg.coef_\n",
        "intercept = reg.intercept_\n",
        "print(\"The initial model function is: y = {:.2f}x1 + {:.2f}x2 + {:.2f}x3 + {:.2f}\".format(x1, x2, x3, intercept))"
      ]
    },
    {
      "cell_type": "code",
      "execution_count": 37,
      "id": "d2b29bc0",
      "metadata": {
        "id": "d2b29bc0",
        "outputId": "a494ac8a-6ad1-4d00-8a0e-edee5d0e4510",
        "colab": {
          "base_uri": "https://localhost:8080/"
        }
      },
      "outputs": [
        {
          "output_type": "stream",
          "name": "stdout",
          "text": [
            "The mean absolute error is 0.60.\n",
            "The mean squared error is 0.66.\n",
            "The root mean squared error is 0.81.\n"
          ]
        }
      ],
      "source": [
        "y_pred = reg.predict(X_test)\n",
        "mae = mean_absolute_error(y_test, y_pred)\n",
        "mse = mean_squared_error(y_test, y_pred, squared=True)\n",
        "rmse = mean_squared_error(y_test, y_pred, squared=False)\n",
        "        \n",
        "print(\"The mean absolute error is {:.2f}.\".format(mae))\n",
        "print(\"The mean squared error is {:.2f}.\".format(mse))\n",
        "print(\"The root mean squared error is {:.2f}.\".format(rmse))"
      ]
    },
    {
      "cell_type": "markdown",
      "id": "25fcd80b",
      "metadata": {
        "id": "25fcd80b"
      },
      "source": [
        "### 3.2 Model v2 - Linear regression with complete set of features"
      ]
    },
    {
      "cell_type": "code",
      "execution_count": 38,
      "id": "bd80912e",
      "metadata": {
        "id": "bd80912e",
        "outputId": "31c8b302-30d1-4efe-f485-de218a3ca445",
        "colab": {
          "base_uri": "https://localhost:8080/",
          "height": 91
        }
      },
      "outputs": [
        {
          "output_type": "display_data",
          "data": {
            "text/plain": [
              "<IPython.core.display.Math object>"
            ],
            "text/latex": "$$R^2 \\text{ for our initial linear regression model is } 0.95$$"
          },
          "metadata": {}
        },
        {
          "output_type": "stream",
          "name": "stdout",
          "text": [
            "The mean absolute error is 0.26.\n",
            "The mean squared error is 0.47.\n",
            "The root mean squared error is 0.68.\n"
          ]
        }
      ],
      "source": [
        "X, y = house_train.drop('SalePrice', axis=1), house_train['SalePrice']\n",
        "X_train, X_dev, y_train, y_dev = train_test_split(X, y, test_size=0.2, random_state=42)\n",
        "\n",
        "reg = LinearRegression().fit(X_train, y_train)\n",
        "r2 = reg.score(X_train, y_train)\n",
        "display(Math(r'R^2 \\text{{ for our initial linear regression model is }} {:.2f}'.format(r2)))\n",
        "\n",
        "y_pred = reg.predict(X_dev)\n",
        "mae = mean_absolute_error(y_dev, y_pred)\n",
        "mse = mean_squared_error(y_dev, y_pred, squared=True)\n",
        "rmse = mean_squared_error(y_dev, y_pred, squared=False)\n",
        "        \n",
        "print(\"The mean absolute error is {:.2f}.\".format(mae))\n",
        "print(\"The mean squared error is {:.2f}.\".format(mse))\n",
        "print(\"The root mean squared error is {:.2f}.\".format(rmse))"
      ]
    },
    {
      "cell_type": "markdown",
      "id": "d3bd845a",
      "metadata": {
        "id": "d3bd845a"
      },
      "source": [
        "### 3.X Cross validation"
      ]
    },
    {
      "cell_type": "code",
      "execution_count": 39,
      "id": "c8da63a0",
      "metadata": {
        "id": "c8da63a0"
      },
      "outputs": [],
      "source": [
        "# Validation function\n",
        "n_folds = 5\n",
        "\n",
        "def model_cross_val(model, X, y):\n",
        "    kf = KFold(n_folds, shuffle=True, random_state=42).get_n_splits(X.values)\n",
        "    rmse = np.sqrt(-cross_val_score(model, X.values, y, scoring=\"neg_mean_squared_error\", cv = kf)).mean()\n",
        "    return rmse"
      ]
    },
    {
      "cell_type": "markdown",
      "id": "573d3a10",
      "metadata": {
        "id": "573d3a10"
      },
      "source": [
        "### 3.X Model selection"
      ]
    },
    {
      "cell_type": "code",
      "execution_count": 45,
      "id": "ccacf3d7",
      "metadata": {
        "id": "ccacf3d7"
      },
      "outputs": [],
      "source": [
        "# Lasso ridge\n",
        "lasso = make_pipeline(RobustScaler(), Lasso(alpha =0.0005, random_state=1))\n",
        "\n",
        "# Elastic net\n",
        "enet = make_pipeline(RobustScaler(), ElasticNet(alpha=0.0005, l1_ratio=.9, random_state=3))\n",
        "\n",
        "# Kernel ridge\n",
        "krr = KernelRidge(alpha=0.6,\n",
        "                  kernel='polynomial',\n",
        "                  degree=2,\n",
        "                  coef0=2.5\n",
        "                 )\n",
        "\n",
        "# Gradient boosting\n",
        "gboost = GradientBoostingRegressor(n_estimators=3000,\n",
        "                                   learning_rate=0.05,\n",
        "                                   max_depth=4, max_features='sqrt',\n",
        "                                   min_samples_leaf=15,\n",
        "                                   min_samples_split=10, \n",
        "                                   loss='huber',\n",
        "                                   random_state=5\n",
        "                                  )\n",
        "\n",
        "# XGBoost\n",
        "xgboost = xgb.XGBRegressor(colsample_bytree=0.4603,\n",
        "                           gamma=0.0468, \n",
        "                           learning_rate=0.05,\n",
        "                           max_depth=3, \n",
        "                           min_child_weight=1.7817,\n",
        "                           n_estimators=2200,\n",
        "                           reg_alpha=0.4640,\n",
        "                           reg_lambda=0.8571,\n",
        "                           subsample=0.5213,\n",
        "                           silent=1,\n",
        "                           random_state=7,\n",
        "                           nthread=-1\n",
        "                          )\n",
        "\n",
        "# LightGB\n",
        "lgboost = lgb.LGBMRegressor(objective='regression',\n",
        "                            num_leaves=5,\n",
        "                            learning_rate=0.05, \n",
        "                            n_estimators=720,\n",
        "                            max_bin=55,\n",
        "                            bagging_fraction=0.8,\n",
        "                            bagging_freq=5,\n",
        "                            feature_fraction=0.2319,\n",
        "                            feature_fraction_seed=9,\n",
        "                            bagging_seed=9,\n",
        "                            min_data_in_leaf=6,\n",
        "                            min_sum_hessian_in_leaf=11\n",
        "                           )\n",
        "\n",
        "# Random forest\n",
        "rforest = RandomForestRegressor(max_depth=2, random_state=0)\n",
        "\n",
        "names = ['Lasso', 'Elastic Net', 'Kernel Ridge', 'Gradient Boost', 'XGBoost', 'LightGB', 'Random Forest']\n",
        "models = [lasso, enet, krr, gboost, xgboost, lgboost, rforest]\n",
        "\n",
        "models = dict(zip(names, models))"
      ]
    },
    {
      "cell_type": "code",
      "execution_count": 44,
      "id": "12dedd72",
      "metadata": {
        "id": "12dedd72",
        "outputId": "67dba50c-d93a-4f19-ebd7-a9722364d9e1",
        "colab": {
          "base_uri": "https://localhost:8080/"
        }
      },
      "outputs": [
        {
          "output_type": "stream",
          "name": "stdout",
          "text": [
            "RMSE for each model in our set\n",
            "------------------------------\n",
            "Lasso: 0.340636\n",
            "Elastic Net: 0.345610\n",
            "Kernel Ridge: 0.626905\n",
            "Gradient Boosting: 0.309219\n",
            "XGBoost: 0.317291\n",
            "LightGB: 0.310946\n",
            "Random Forest: 0.524630\n",
            "\n",
            "\n",
            "CPU times: user 2min 55s, sys: 4.34 s, total: 3min\n",
            "Wall time: 2min 18s\n"
          ]
        }
      ],
      "source": [
        "# Note this cell takes a very long time to execute unless using a GPU \n",
        "%%time\n",
        "print(\"RMSE for each model in our set\")\n",
        "print(\"------------------------------\")\n",
        "\n",
        "for name, model in models.items():\n",
        "    rmse = model_cross_val(model, X_train, y_train)\n",
        "    print(\"{}: {:4f}\".format(name, rmse))\n",
        "\n",
        "print(\"\\n\")"
      ]
    },
    {
      "cell_type": "code",
      "execution_count": null,
      "id": "2b194fa3",
      "metadata": {
        "id": "2b194fa3"
      },
      "outputs": [],
      "source": [
        ""
      ]
    },
    {
      "cell_type": "code",
      "execution_count": null,
      "id": "00007e55",
      "metadata": {
        "id": "00007e55"
      },
      "outputs": [],
      "source": [
        ""
      ]
    }
  ],
  "metadata": {
    "kernelspec": {
      "display_name": "Python 3 (ipykernel)",
      "language": "python",
      "name": "python3"
    },
    "language_info": {
      "codemirror_mode": {
        "name": "ipython",
        "version": 3
      },
      "file_extension": ".py",
      "mimetype": "text/x-python",
      "name": "python",
      "nbconvert_exporter": "python",
      "pygments_lexer": "ipython3",
      "version": "3.8.8"
    },
    "colab": {
      "name": "baseline.ipynb",
      "provenance": []
    },
    "accelerator": "GPU"
  },
  "nbformat": 4,
  "nbformat_minor": 5
}