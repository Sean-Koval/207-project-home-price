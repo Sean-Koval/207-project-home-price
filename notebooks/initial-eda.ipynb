{
 "cells": [
  {
   "cell_type": "markdown",
   "id": "e65fae88",
   "metadata": {},
   "source": [
    "## Overview"
   ]
  },
  {
   "cell_type": "markdown",
   "id": "f657fc90",
   "metadata": {},
   "source": [
    "__Business Problem__\n",
    "\n",
    "As a business, it is difficult to assess the appropriate value for homes in certain neighborhoods/markets. There is a need for more precision and confidence in valuation to support decision-making. Developing a data-driven / model-based approach to valuation can help to remove human bias.\n",
    "\n",
    "As a building developer, it is difficult to weigh the importance of attributes to potential home buyers. A model-based approach can help assess what factors drive the oveall value of a home.\n",
    "\n",
    "__Inference Problem__\n",
    "\n",
    "X: 79 explanatory variables describing aspects of residential homes in Ames, Iowa\n",
    "y: Home price\n",
    "\n",
    "Develop a model to predict home price based on a collection of attributes about the home and surrounding neighborhood.\n",
    "\n",
    "__Methodology__\n",
    "\n",
    "- Exploratory data analysis\n",
    "    - Use pandas profiling minimal for overview\n",
    "    - Develop calculated metrics using numerical variables\n",
    "    - Apply one-hot encoding to relevant ordinal variables\n",
    "- Model setup\n",
    "    - Baseline set of regression models\n",
    "        - Linear Regression\n",
    "        - Random Forest\n",
    "        - Gradient Boosting\n",
    "- Model evaluation and iteration\n",
    "    - Evaluate performance metrics: $R^2$, MSE, MAE, RMSE, [placeholder]\n",
    "    - Assess feature importance, apply dimensionality reduction\n",
    "    - Determine which models to exclude, features to exclude/include/adjust\n",
    "    - Repeat model setup"
   ]
  },
  {
   "cell_type": "markdown",
   "id": "c66521b2",
   "metadata": {},
   "source": [
    "## Import and Setup"
   ]
  },
  {
   "cell_type": "code",
   "execution_count": 34,
   "id": "7c54ace8",
   "metadata": {},
   "outputs": [],
   "source": [
    "import numpy as np\n",
    "import pandas as pd\n",
    "import pandas_profiling as pp\n",
    "\n",
    "%matplotlib inline\n",
    "import matplotlib.pyplot as plt\n",
    "import seaborn as sns\n",
    "\n",
    "from sklearn.model_selection import train_test_split\n",
    "from sklearn.linear_model import LinearRegression\n",
    "from sklearn.metrics import mean_absolute_error, mean_squared_error\n"
   ]
  },
  {
   "cell_type": "code",
   "execution_count": null,
   "id": "274a2c4d",
   "metadata": {},
   "outputs": [],
   "source": [
    "from sklearn.preprocessing import StandardScaler\n",
    "from scipy.stats import chi2_contingency \n",
    "from sklearn.model_selection import RandomizedSearchCV\n",
    "from sklearn.svm import SVR\n",
    "from sklearn.linear_model import ElasticNet\n",
    "from sklearn.linear_model import SGDRegressor, Ridge, Lasso\n",
    "from sklearn.model_selection import cross_val_score\n",
    "from sklearn.model_selection import GridSearchCV"
   ]
  },
  {
   "cell_type": "code",
   "execution_count": 5,
   "id": "14eedaa3",
   "metadata": {},
   "outputs": [],
   "source": [
    "house_train = pd.read_csv('../data/train.csv')\n",
    "house_test = pd.read_csv('../data/test.csv')"
   ]
  },
  {
   "cell_type": "code",
   "execution_count": 6,
   "id": "c254a308",
   "metadata": {},
   "outputs": [
    {
     "name": "stdout",
     "output_type": "stream",
     "text": [
      "\u001b[1mDataframe Shape\u001b[0m\n",
      "(1460, 81)\n",
      "\n",
      "\n",
      "\u001b[1mColumn Information\u001b[0m\n",
      "<class 'pandas.core.frame.DataFrame'>\n",
      "RangeIndex: 1460 entries, 0 to 1459\n",
      "Data columns (total 81 columns):\n",
      " #   Column         Non-Null Count  Dtype  \n",
      "---  ------         --------------  -----  \n",
      " 0   Id             1460 non-null   int64  \n",
      " 1   MSSubClass     1460 non-null   int64  \n",
      " 2   MSZoning       1460 non-null   object \n",
      " 3   LotFrontage    1201 non-null   float64\n",
      " 4   LotArea        1460 non-null   int64  \n",
      " 5   Street         1460 non-null   object \n",
      " 6   Alley          91 non-null     object \n",
      " 7   LotShape       1460 non-null   object \n",
      " 8   LandContour    1460 non-null   object \n",
      " 9   Utilities      1460 non-null   object \n",
      " 10  LotConfig      1460 non-null   object \n",
      " 11  LandSlope      1460 non-null   object \n",
      " 12  Neighborhood   1460 non-null   object \n",
      " 13  Condition1     1460 non-null   object \n",
      " 14  Condition2     1460 non-null   object \n",
      " 15  BldgType       1460 non-null   object \n",
      " 16  HouseStyle     1460 non-null   object \n",
      " 17  OverallQual    1460 non-null   int64  \n",
      " 18  OverallCond    1460 non-null   int64  \n",
      " 19  YearBuilt      1460 non-null   int64  \n",
      " 20  YearRemodAdd   1460 non-null   int64  \n",
      " 21  RoofStyle      1460 non-null   object \n",
      " 22  RoofMatl       1460 non-null   object \n",
      " 23  Exterior1st    1460 non-null   object \n",
      " 24  Exterior2nd    1460 non-null   object \n",
      " 25  MasVnrType     1452 non-null   object \n",
      " 26  MasVnrArea     1452 non-null   float64\n",
      " 27  ExterQual      1460 non-null   object \n",
      " 28  ExterCond      1460 non-null   object \n",
      " 29  Foundation     1460 non-null   object \n",
      " 30  BsmtQual       1423 non-null   object \n",
      " 31  BsmtCond       1423 non-null   object \n",
      " 32  BsmtExposure   1422 non-null   object \n",
      " 33  BsmtFinType1   1423 non-null   object \n",
      " 34  BsmtFinSF1     1460 non-null   int64  \n",
      " 35  BsmtFinType2   1422 non-null   object \n",
      " 36  BsmtFinSF2     1460 non-null   int64  \n",
      " 37  BsmtUnfSF      1460 non-null   int64  \n",
      " 38  TotalBsmtSF    1460 non-null   int64  \n",
      " 39  Heating        1460 non-null   object \n",
      " 40  HeatingQC      1460 non-null   object \n",
      " 41  CentralAir     1460 non-null   object \n",
      " 42  Electrical     1459 non-null   object \n",
      " 43  1stFlrSF       1460 non-null   int64  \n",
      " 44  2ndFlrSF       1460 non-null   int64  \n",
      " 45  LowQualFinSF   1460 non-null   int64  \n",
      " 46  GrLivArea      1460 non-null   int64  \n",
      " 47  BsmtFullBath   1460 non-null   int64  \n",
      " 48  BsmtHalfBath   1460 non-null   int64  \n",
      " 49  FullBath       1460 non-null   int64  \n",
      " 50  HalfBath       1460 non-null   int64  \n",
      " 51  BedroomAbvGr   1460 non-null   int64  \n",
      " 52  KitchenAbvGr   1460 non-null   int64  \n",
      " 53  KitchenQual    1460 non-null   object \n",
      " 54  TotRmsAbvGrd   1460 non-null   int64  \n",
      " 55  Functional     1460 non-null   object \n",
      " 56  Fireplaces     1460 non-null   int64  \n",
      " 57  FireplaceQu    770 non-null    object \n",
      " 58  GarageType     1379 non-null   object \n",
      " 59  GarageYrBlt    1379 non-null   float64\n",
      " 60  GarageFinish   1379 non-null   object \n",
      " 61  GarageCars     1460 non-null   int64  \n",
      " 62  GarageArea     1460 non-null   int64  \n",
      " 63  GarageQual     1379 non-null   object \n",
      " 64  GarageCond     1379 non-null   object \n",
      " 65  PavedDrive     1460 non-null   object \n",
      " 66  WoodDeckSF     1460 non-null   int64  \n",
      " 67  OpenPorchSF    1460 non-null   int64  \n",
      " 68  EnclosedPorch  1460 non-null   int64  \n",
      " 69  3SsnPorch      1460 non-null   int64  \n",
      " 70  ScreenPorch    1460 non-null   int64  \n",
      " 71  PoolArea       1460 non-null   int64  \n",
      " 72  PoolQC         7 non-null      object \n",
      " 73  Fence          281 non-null    object \n",
      " 74  MiscFeature    54 non-null     object \n",
      " 75  MiscVal        1460 non-null   int64  \n",
      " 76  MoSold         1460 non-null   int64  \n",
      " 77  YrSold         1460 non-null   int64  \n",
      " 78  SaleType       1460 non-null   object \n",
      " 79  SaleCondition  1460 non-null   object \n",
      " 80  SalePrice      1460 non-null   int64  \n",
      "dtypes: float64(3), int64(35), object(43)\n",
      "memory usage: 924.0+ KB\n",
      "\n",
      "\n",
      "\u001b[1mNumeric Column Information\u001b[0m\n",
      "                Id   MSSubClass  LotFrontage        LotArea  OverallQual  \\\n",
      "count  1460.000000  1460.000000  1201.000000    1460.000000  1460.000000   \n",
      "mean    730.500000    56.897260    70.049958   10516.828082     6.099315   \n",
      "std     421.610009    42.300571    24.284752    9981.264932     1.382997   \n",
      "min       1.000000    20.000000    21.000000    1300.000000     1.000000   \n",
      "25%     365.750000    20.000000    59.000000    7553.500000     5.000000   \n",
      "50%     730.500000    50.000000    69.000000    9478.500000     6.000000   \n",
      "75%    1095.250000    70.000000    80.000000   11601.500000     7.000000   \n",
      "max    1460.000000   190.000000   313.000000  215245.000000    10.000000   \n",
      "\n",
      "       OverallCond    YearBuilt  YearRemodAdd   MasVnrArea   BsmtFinSF1  ...  \\\n",
      "count  1460.000000  1460.000000   1460.000000  1452.000000  1460.000000  ...   \n",
      "mean      5.575342  1971.267808   1984.865753   103.685262   443.639726  ...   \n",
      "std       1.112799    30.202904     20.645407   181.066207   456.098091  ...   \n",
      "min       1.000000  1872.000000   1950.000000     0.000000     0.000000  ...   \n",
      "25%       5.000000  1954.000000   1967.000000     0.000000     0.000000  ...   \n",
      "50%       5.000000  1973.000000   1994.000000     0.000000   383.500000  ...   \n",
      "75%       6.000000  2000.000000   2004.000000   166.000000   712.250000  ...   \n",
      "max       9.000000  2010.000000   2010.000000  1600.000000  5644.000000  ...   \n",
      "\n",
      "        WoodDeckSF  OpenPorchSF  EnclosedPorch    3SsnPorch  ScreenPorch  \\\n",
      "count  1460.000000  1460.000000    1460.000000  1460.000000  1460.000000   \n",
      "mean     94.244521    46.660274      21.954110     3.409589    15.060959   \n",
      "std     125.338794    66.256028      61.119149    29.317331    55.757415   \n",
      "min       0.000000     0.000000       0.000000     0.000000     0.000000   \n",
      "25%       0.000000     0.000000       0.000000     0.000000     0.000000   \n",
      "50%       0.000000    25.000000       0.000000     0.000000     0.000000   \n",
      "75%     168.000000    68.000000       0.000000     0.000000     0.000000   \n",
      "max     857.000000   547.000000     552.000000   508.000000   480.000000   \n",
      "\n",
      "          PoolArea       MiscVal       MoSold       YrSold      SalePrice  \n",
      "count  1460.000000   1460.000000  1460.000000  1460.000000    1460.000000  \n",
      "mean      2.758904     43.489041     6.321918  2007.815753  180921.195890  \n",
      "std      40.177307    496.123024     2.703626     1.328095   79442.502883  \n",
      "min       0.000000      0.000000     1.000000  2006.000000   34900.000000  \n",
      "25%       0.000000      0.000000     5.000000  2007.000000  129975.000000  \n",
      "50%       0.000000      0.000000     6.000000  2008.000000  163000.000000  \n",
      "75%       0.000000      0.000000     8.000000  2009.000000  214000.000000  \n",
      "max     738.000000  15500.000000    12.000000  2010.000000  755000.000000  \n",
      "\n",
      "[8 rows x 38 columns]\n",
      "\n",
      "\n",
      "\u001b[1mCategorical Column Unique Values\u001b[0m\n",
      "MSZoning: ['RL' 'RM' 'C (all)' 'FV' 'RH']\n",
      "Street: ['Pave' 'Grvl']\n",
      "Alley: [nan 'Grvl' 'Pave']\n",
      "LotShape: ['Reg' 'IR1' 'IR2' 'IR3']\n",
      "LandContour: ['Lvl' 'Bnk' 'Low' 'HLS']\n",
      "Utilities: ['AllPub' 'NoSeWa']\n",
      "LotConfig: ['Inside' 'FR2' 'Corner' 'CulDSac' 'FR3']\n",
      "LandSlope: ['Gtl' 'Mod' 'Sev']\n",
      "Condition1: ['Norm' 'Feedr' 'PosN' 'Artery' 'RRAe' 'RRNn' 'RRAn' 'PosA' 'RRNe']\n",
      "Condition2: ['Norm' 'Artery' 'RRNn' 'Feedr' 'PosN' 'PosA' 'RRAn' 'RRAe']\n",
      "BldgType: ['1Fam' '2fmCon' 'Duplex' 'TwnhsE' 'Twnhs']\n",
      "HouseStyle: ['2Story' '1Story' '1.5Fin' '1.5Unf' 'SFoyer' 'SLvl' '2.5Unf' '2.5Fin']\n",
      "OverallQual: [ 7  6  8  5  9  4 10  3  1  2]\n",
      "OverallCond: [5 8 6 7 4 2 3 9 1]\n",
      "RoofStyle: ['Gable' 'Hip' 'Gambrel' 'Mansard' 'Flat' 'Shed']\n",
      "RoofMatl: ['CompShg' 'WdShngl' 'Metal' 'WdShake' 'Membran' 'Tar&Grv' 'Roll'\n",
      " 'ClyTile']\n",
      "MasVnrType: ['BrkFace' 'None' 'Stone' 'BrkCmn' nan]\n",
      "ExterQual: ['Gd' 'TA' 'Ex' 'Fa']\n",
      "ExterCond: ['TA' 'Gd' 'Fa' 'Po' 'Ex']\n",
      "Foundation: ['PConc' 'CBlock' 'BrkTil' 'Wood' 'Slab' 'Stone']\n",
      "BsmtQual: ['Gd' 'TA' 'Ex' nan 'Fa']\n",
      "BsmtCond: ['TA' 'Gd' nan 'Fa' 'Po']\n",
      "BsmtExposure: ['No' 'Gd' 'Mn' 'Av' nan]\n",
      "BsmtFinType1: ['GLQ' 'ALQ' 'Unf' 'Rec' 'BLQ' nan 'LwQ']\n",
      "BsmtFinType2: ['Unf' 'BLQ' nan 'ALQ' 'Rec' 'LwQ' 'GLQ']\n",
      "Heating: ['GasA' 'GasW' 'Grav' 'Wall' 'OthW' 'Floor']\n",
      "HeatingQC: ['Ex' 'Gd' 'TA' 'Fa' 'Po']\n",
      "CentralAir: ['Y' 'N']\n",
      "Electrical: ['SBrkr' 'FuseF' 'FuseA' 'FuseP' 'Mix' nan]\n",
      "BsmtFullBath: [1 0 2 3]\n",
      "BsmtHalfBath: [0 1 2]\n",
      "FullBath: [2 1 3 0]\n",
      "HalfBath: [1 0 2]\n",
      "BedroomAbvGr: [3 4 1 2 0 5 6 8]\n",
      "KitchenAbvGr: [1 2 3 0]\n",
      "KitchenQual: ['Gd' 'TA' 'Ex' 'Fa']\n",
      "Functional: ['Typ' 'Min1' 'Maj1' 'Min2' 'Mod' 'Maj2' 'Sev']\n",
      "Fireplaces: [0 1 2 3]\n",
      "FireplaceQu: [nan 'TA' 'Gd' 'Fa' 'Ex' 'Po']\n",
      "GarageType: ['Attchd' 'Detchd' 'BuiltIn' 'CarPort' nan 'Basment' '2Types']\n",
      "GarageFinish: ['RFn' 'Unf' 'Fin' nan]\n",
      "GarageCars: [2 3 1 0 4]\n",
      "GarageQual: ['TA' 'Fa' 'Gd' nan 'Ex' 'Po']\n",
      "GarageCond: ['TA' 'Fa' nan 'Gd' 'Po' 'Ex']\n"
     ]
    },
    {
     "name": "stdout",
     "output_type": "stream",
     "text": [
      "PavedDrive: ['Y' 'N' 'P']\n",
      "PoolArea: [  0 512 648 576 555 480 519 738]\n",
      "PoolQC: [nan 'Ex' 'Fa' 'Gd']\n",
      "Fence: [nan 'MnPrv' 'GdWo' 'GdPrv' 'MnWw']\n",
      "MiscFeature: [nan 'Shed' 'Gar2' 'Othr' 'TenC']\n",
      "YrSold: [2008 2007 2006 2009 2010]\n",
      "SaleType: ['WD' 'New' 'COD' 'ConLD' 'ConLI' 'CWD' 'ConLw' 'Con' 'Oth']\n",
      "SaleCondition: ['Normal' 'Abnorml' 'Partial' 'AdjLand' 'Alloca' 'Family']\n"
     ]
    }
   ],
   "source": [
    "print(\"\\033[1m\" + \"Dataframe Shape\" + \"\\033[0m\")\n",
    "print(house_train.shape)\n",
    "print(\"\\n\")\n",
    "\n",
    "print(\"\\033[1m\" + \"Column Information\" + \"\\033[0m\")\n",
    "house_train.info()\n",
    "print(\"\\n\")\n",
    "\n",
    "print(\"\\033[1m\" + \"Numeric Column Information\" + \"\\033[0m\")\n",
    "print(house_train.describe())\n",
    "print(\"\\n\")\n",
    "\n",
    "print(\"\\033[1m\" + \"Categorical Column Unique Values\" + \"\\033[0m\")\n",
    "for col in house_train:\n",
    "    if len(house_train[col].unique()) > 10:\n",
    "        pass\n",
    "    else:\n",
    "        print('{}: {}'.format(col, house_train[col].unique()))"
   ]
  },
  {
   "cell_type": "code",
   "execution_count": 15,
   "id": "2870b68e",
   "metadata": {},
   "outputs": [
    {
     "data": {
      "application/vnd.jupyter.widget-view+json": {
       "model_id": "1795dd9ad2dc45b08d363f21f86bba91",
       "version_major": 2,
       "version_minor": 0
      },
      "text/plain": [
       "Summarize dataset:   0%|          | 0/5 [00:00<?, ?it/s]"
      ]
     },
     "metadata": {},
     "output_type": "display_data"
    },
    {
     "data": {
      "application/vnd.jupyter.widget-view+json": {
       "model_id": "5f6b94f355634379b7218983fe0d6237",
       "version_major": 2,
       "version_minor": 0
      },
      "text/plain": [
       "Generate report structure:   0%|          | 0/1 [00:00<?, ?it/s]"
      ]
     },
     "metadata": {},
     "output_type": "display_data"
    },
    {
     "data": {
      "application/vnd.jupyter.widget-view+json": {
       "model_id": "720f77e3b74e4936a03bccbaedc2ef91",
       "version_major": 2,
       "version_minor": 0
      },
      "text/plain": [
       "Render HTML:   0%|          | 0/1 [00:00<?, ?it/s]"
      ]
     },
     "metadata": {},
     "output_type": "display_data"
    },
    {
     "data": {
      "application/vnd.jupyter.widget-view+json": {
       "model_id": "dce2298149774ff8b60c1a1698cd856c",
       "version_major": 2,
       "version_minor": 0
      },
      "text/plain": [
       "Export report to file:   0%|          | 0/1 [00:00<?, ?it/s]"
      ]
     },
     "metadata": {},
     "output_type": "display_data"
    }
   ],
   "source": [
    "from pandas_profiling import ProfileReport\n",
    "prof = ProfileReport(house_train, minimal=True)\n",
    "prof.to_file(output_file='output.html')"
   ]
  },
  {
   "cell_type": "code",
   "execution_count": 28,
   "id": "2921d985",
   "metadata": {},
   "outputs": [],
   "source": [
    "initial_features = ['LotArea', 'BedroomAbvGr', 'FullBath']\n",
    "\n",
    "X, y = house_train[initial_features], house_train['SalePrice']\n",
    "X_train, X_test, y_train, y_test = train_test_split(X, y, test_size=0.2, random_state=42)"
   ]
  },
  {
   "cell_type": "code",
   "execution_count": 38,
   "id": "1a2d6501",
   "metadata": {},
   "outputs": [
    {
     "name": "stdout",
     "output_type": "stream",
     "text": [
      "The model's R^2 score is 0.35\n"
     ]
    }
   ],
   "source": [
    "reg = LinearRegression().fit(X_train, y_train)\n",
    "r2 = reg.score(X_train, y_train)\n",
    "\n",
    "print(\"The model's R^2 score is {:.2f}\".format(r2))"
   ]
  },
  {
   "cell_type": "code",
   "execution_count": 41,
   "id": "29bcc56f",
   "metadata": {},
   "outputs": [
    {
     "name": "stdout",
     "output_type": "stream",
     "text": [
      "The initial model function is: y = 1.50x1 + -5588.32x2 + 77447.59237738466x3 + 59429.81\n"
     ]
    }
   ],
   "source": [
    "x1, x2, x3 = reg.coef_\n",
    "intercept = reg.intercept_\n",
    "print(\"The initial model function is: y = {:.2f}x1 + {:.2f}x2 + {}x3 + {:.2f}\".format(x1, x2, x3, intercept))"
   ]
  },
  {
   "cell_type": "code",
   "execution_count": 37,
   "id": "9fb5d490",
   "metadata": {},
   "outputs": [
    {
     "name": "stdout",
     "output_type": "stream",
     "text": [
      "The mean absolute error is 45417.52\n",
      "The mean squared error is 4831659711.85\n",
      "The root mean squared error is 69510.14\n"
     ]
    }
   ],
   "source": [
    "y_pred = reg.predict(X_test)\n",
    "mae = mean_absolute_error(y_test, y_pred)\n",
    "mse = mean_squared_error(y_test, y_pred, squared=True)\n",
    "rmse = mean_squared_error(y_test, y_pred, squared=False)\n",
    "        \n",
    "print(\"The mean absolute error is {:.2f}\".format(mae))\n",
    "print(\"The mean squared error is {:.2f}\".format(mse))\n",
    "print(\"The root mean squared error is {:.2f}\".format(rmse))"
   ]
  },
  {
   "cell_type": "code",
   "execution_count": null,
   "id": "00e45d77",
   "metadata": {},
   "outputs": [],
   "source": []
  }
 ],
 "metadata": {
  "kernelspec": {
   "display_name": "Python 3 (ipykernel)",
   "language": "python",
   "name": "python3"
  },
  "language_info": {
   "codemirror_mode": {
    "name": "ipython",
    "version": 3
   },
   "file_extension": ".py",
   "mimetype": "text/x-python",
   "name": "python",
   "nbconvert_exporter": "python",
   "pygments_lexer": "ipython3",
   "version": "3.8.8"
  }
 },
 "nbformat": 4,
 "nbformat_minor": 5
}
